{
 "cells": [
  {
   "cell_type": "code",
   "execution_count": 1,
   "id": "50051407",
   "metadata": {},
   "outputs": [],
   "source": [
    "import pandas as pd\n",
    "import datetime as dt"
   ]
  },
  {
   "cell_type": "markdown",
   "id": "451743e2",
   "metadata": {},
   "source": [
    "### Review of datetime Module"
   ]
  },
  {
   "cell_type": "code",
   "execution_count": 2,
   "id": "b3c4e0c9",
   "metadata": {},
   "outputs": [],
   "source": [
    "someday = dt.date(2010, 1, 20) # creating a date object, stores only the date"
   ]
  },
  {
   "cell_type": "code",
   "execution_count": 4,
   "id": "440952d6",
   "metadata": {},
   "outputs": [
    {
     "data": {
      "text/plain": [
       "20"
      ]
     },
     "execution_count": 4,
     "metadata": {},
     "output_type": "execute_result"
    }
   ],
   "source": [
    "someday.year\n",
    "someday.month\n",
    "someday.day"
   ]
  },
  {
   "cell_type": "code",
   "execution_count": 6,
   "id": "52fd6330",
   "metadata": {},
   "outputs": [
    {
     "data": {
      "text/plain": [
       "'2010-01-10 08:13:57'"
      ]
     },
     "execution_count": 6,
     "metadata": {},
     "output_type": "execute_result"
    }
   ],
   "source": [
    "str(dt.datetime(2010, 1, 10, 8, 13, 57)) # creating a datetime object, stores both date and time"
   ]
  },
  {
   "cell_type": "code",
   "execution_count": 8,
   "id": "cbceeeca",
   "metadata": {},
   "outputs": [],
   "source": [
    "sometime = dt.datetime(2010, 1, 10, 8, 13, 57)"
   ]
  },
  {
   "cell_type": "code",
   "execution_count": 11,
   "id": "b4e19205",
   "metadata": {},
   "outputs": [
    {
     "data": {
      "text/plain": [
       "57"
      ]
     },
     "execution_count": 11,
     "metadata": {},
     "output_type": "execute_result"
    }
   ],
   "source": [
    "sometime.hour\n",
    "sometime.minute\n",
    "sometime.second"
   ]
  },
  {
   "cell_type": "markdown",
   "id": "0ed21c09",
   "metadata": {},
   "source": [
    "### The pandas Timestamp Object"
   ]
  },
  {
   "cell_type": "code",
   "execution_count": 15,
   "id": "e7793a36",
   "metadata": {},
   "outputs": [
    {
     "data": {
      "text/plain": [
       "Timestamp('2015-01-01 00:00:00')"
      ]
     },
     "execution_count": 15,
     "metadata": {},
     "output_type": "execute_result"
    }
   ],
   "source": [
    "pd.Timestamp('2015-03-31') # creating a Timestamp object, passing in a string\n",
    "pd.Timestamp('1/1/2015') # follows m-d-y by default"
   ]
  },
  {
   "cell_type": "code",
   "execution_count": 13,
   "id": "79c6d968",
   "metadata": {},
   "outputs": [
    {
     "data": {
      "text/plain": [
       "Timestamp('2013-11-04 00:00:00')"
      ]
     },
     "execution_count": 13,
     "metadata": {},
     "output_type": "execute_result"
    }
   ],
   "source": [
    "pd.Timestamp('2013, 11, 04')"
   ]
  },
  {
   "cell_type": "code",
   "execution_count": 16,
   "id": "6aa09d33",
   "metadata": {},
   "outputs": [
    {
     "data": {
      "text/plain": [
       "Timestamp('2021-03-08 08:35:15')"
      ]
     },
     "execution_count": 16,
     "metadata": {},
     "output_type": "execute_result"
    }
   ],
   "source": [
    "pd.Timestamp('2021-03-08 08:35:15') # passing in date and time as a string"
   ]
  },
  {
   "cell_type": "code",
   "execution_count": 19,
   "id": "d73bce91",
   "metadata": {},
   "outputs": [
    {
     "data": {
      "text/plain": [
       "Timestamp('2015-01-01 21:34:32')"
      ]
     },
     "execution_count": 19,
     "metadata": {},
     "output_type": "execute_result"
    }
   ],
   "source": [
    "pd.Timestamp(dt.date(2015, 1, 1))\n",
    "pd.Timestamp(dt.datetime(2015, 1, 1, 21, 34, 32)) # passing in date and datetime objects as args for Timestamp obj creation"
   ]
  },
  {
   "cell_type": "markdown",
   "id": "d528a183",
   "metadata": {},
   "source": [
    "### The pandas DatetimeIndex Object"
   ]
  },
  {
   "cell_type": "code",
   "execution_count": 6,
   "id": "11eee82a",
   "metadata": {},
   "outputs": [
    {
     "data": {
      "text/plain": [
       "DatetimeIndex(['2016-01-01', '2023-01-03'], dtype='datetime64[ns]', freq=None)"
      ]
     },
     "execution_count": 6,
     "metadata": {},
     "output_type": "execute_result"
    }
   ],
   "source": [
    "dates = ['2016-01-01', '2023-01-03'] # DatetimeIndex is a container for a group of pandas timestamps\n",
    "pd.DatetimeIndex(dates)"
   ]
  },
  {
   "cell_type": "code",
   "execution_count": 8,
   "id": "876c06ed",
   "metadata": {},
   "outputs": [
    {
     "data": {
      "text/plain": [
       "2016-01-10    100\n",
       "1994-06-13    200\n",
       "dtype: int64"
      ]
     },
     "execution_count": 8,
     "metadata": {},
     "output_type": "execute_result"
    }
   ],
   "source": [
    "dates = [dt.date(2016, 1, 10), dt.date(1994, 6, 13)] \n",
    "dtIndex = pd.DatetimeIndex(dates)\n",
    "\n",
    "values = [100, 200]\n",
    "pd.Series(data = values, index = dtIndex) # adding DatetimeIndex(container of dates) as index in series"
   ]
  },
  {
   "cell_type": "markdown",
   "id": "d6adece2",
   "metadata": {},
   "source": [
    "### The pd.to_datetime() Method"
   ]
  },
  {
   "cell_type": "code",
   "execution_count": 10,
   "id": "e61996e4",
   "metadata": {},
   "outputs": [
    {
     "data": {
      "text/plain": [
       "Timestamp('2015-01-01 00:00:00')"
      ]
     },
     "execution_count": 10,
     "metadata": {},
     "output_type": "execute_result"
    }
   ],
   "source": [
    "pd.to_datetime(dt.date(2015, 1, 1)) # converts to timestamp object"
   ]
  },
  {
   "cell_type": "code",
   "execution_count": 9,
   "id": "d3e2e78e",
   "metadata": {},
   "outputs": [
    {
     "data": {
      "text/plain": [
       "DatetimeIndex(['2015-01-03', '2014-02-08', '2016-01-01', '1996-07-04'], dtype='datetime64[ns]', freq=None)"
      ]
     },
     "execution_count": 9,
     "metadata": {},
     "output_type": "execute_result"
    }
   ],
   "source": [
    "pd.to_datetime(['2015-01-03', '2014/02/08', '2016', 'July 4th, 1996']) # converts into datetime index obj -> bundle of timestamps"
   ]
  },
  {
   "cell_type": "code",
   "execution_count": 3,
   "id": "3318f2e0",
   "metadata": {},
   "outputs": [
    {
     "data": {
      "text/plain": [
       "0    2015-02-03\n",
       "1          2016\n",
       "dtype: object"
      ]
     },
     "execution_count": 3,
     "metadata": {},
     "output_type": "execute_result"
    }
   ],
   "source": [
    "dates = pd.Series(['2015-02-03', '2016'])\n",
    "dates"
   ]
  },
  {
   "cell_type": "code",
   "execution_count": 4,
   "id": "5db68540",
   "metadata": {},
   "outputs": [
    {
     "data": {
      "text/plain": [
       "0   2015-02-03\n",
       "1   2016-01-01\n",
       "dtype: datetime64[ns]"
      ]
     },
     "execution_count": 4,
     "metadata": {},
     "output_type": "execute_result"
    }
   ],
   "source": [
    "pd.to_datetime(dates) # converts to timestamps and container to datetimeIndex, keeps 1 format "
   ]
  },
  {
   "cell_type": "code",
   "execution_count": 7,
   "id": "99843464",
   "metadata": {},
   "outputs": [
    {
     "data": {
      "text/plain": [
       "0   1996-07-04\n",
       "1          NaT\n",
       "2          NaT\n",
       "dtype: datetime64[ns]"
      ]
     },
     "execution_count": 7,
     "metadata": {},
     "output_type": "execute_result"
    }
   ],
   "source": [
    "test = pd.Series(['July 4th 1996', 'Hello', '2015-02-31']) # 2 wrong dates\n",
    "\n",
    "pd.to_datetime(test, errors = 'coerce') # use errors param(NAT)for handling wrong dates, won't convert properly otherwise"
   ]
  },
  {
   "cell_type": "code",
   "execution_count": 8,
   "id": "9679f0ef",
   "metadata": {},
   "outputs": [
    {
     "data": {
      "text/plain": [
       "DatetimeIndex(['2012-10-08 18:15:05', '2012-10-09 18:15:05'], dtype='datetime64[ns]', freq=None)"
      ]
     },
     "execution_count": 8,
     "metadata": {},
     "output_type": "execute_result"
    }
   ],
   "source": [
    "pd.to_datetime([1349720105, 1349806505], unit = 's') # converting unix time to pandas timestamps, unit -> secs"
   ]
  },
  {
   "cell_type": "markdown",
   "id": "cd444869",
   "metadata": {},
   "source": [
    "### Create Range of Dates with pd.date_range() method - Part 1"
   ]
  },
  {
   "cell_type": "markdown",
   "id": "a149bb96",
   "metadata": {},
   "source": [
    "Creates a range of dates while specifying:\n",
    "\n",
    "1. start, end paramaters\n",
    "2. start, periods paramters\n",
    "3. end, periods paramters\n",
    "\n",
    "All use Freq parameter"
   ]
  },
  {
   "cell_type": "code",
   "execution_count": 3,
   "id": "75e0427b",
   "metadata": {},
   "outputs": [
    {
     "data": {
      "text/plain": [
       "DatetimeIndex(['2016-01-01', '2016-01-02', '2016-01-03', '2016-01-04',\n",
       "               '2016-01-05', '2016-01-06', '2016-01-07', '2016-01-08',\n",
       "               '2016-01-09', '2016-01-10'],\n",
       "              dtype='datetime64[ns]', freq='D')"
      ]
     },
     "execution_count": 3,
     "metadata": {},
     "output_type": "execute_result"
    }
   ],
   "source": [
    "times = pd.date_range(start = '2016-01-01', end = '2016-01-10', freq = '1D') #generates a range of dates varying by a day \n",
    "times"
   ]
  },
  {
   "cell_type": "code",
   "execution_count": 4,
   "id": "c5fd4c28",
   "metadata": {},
   "outputs": [
    {
     "data": {
      "text/plain": [
       "pandas.core.indexes.datetimes.DatetimeIndex"
      ]
     },
     "execution_count": 4,
     "metadata": {},
     "output_type": "execute_result"
    }
   ],
   "source": [
    "type(times) # gives a datetimeIndex, container of timestamps"
   ]
  },
  {
   "cell_type": "code",
   "execution_count": 6,
   "id": "6157cb86",
   "metadata": {},
   "outputs": [
    {
     "data": {
      "text/plain": [
       "Timestamp('2016-01-01 00:00:00', freq='D')"
      ]
     },
     "execution_count": 6,
     "metadata": {},
     "output_type": "execute_result"
    }
   ],
   "source": [
    "times[0] # accessing date from the list, type -> timestamp"
   ]
  },
  {
   "cell_type": "code",
   "execution_count": 8,
   "id": "17c83a5b",
   "metadata": {},
   "outputs": [
    {
     "data": {
      "text/plain": [
       "DatetimeIndex(['2016-01-01', '2016-01-04', '2016-01-05', '2016-01-06',\n",
       "               '2016-01-07', '2016-01-08'],\n",
       "              dtype='datetime64[ns]', freq='B')"
      ]
     },
     "execution_count": 8,
     "metadata": {},
     "output_type": "execute_result"
    }
   ],
   "source": [
    "pd.date_range(start = '2016-01-01', end = '2016-01-10', freq = 'B') # gives only business days, ranges are inclusive"
   ]
  },
  {
   "cell_type": "code",
   "execution_count": 9,
   "id": "f52f7920",
   "metadata": {},
   "outputs": [
    {
     "data": {
      "text/plain": [
       "DatetimeIndex(['2016-01-03', '2016-01-10'], dtype='datetime64[ns]', freq='W-SUN')"
      ]
     },
     "execution_count": 9,
     "metadata": {},
     "output_type": "execute_result"
    }
   ],
   "source": [
    "pd.date_range(start = '2016-01-01', end = '2016-01-10', freq = 'W') # gives day in a week, defaults to Sunday"
   ]
  },
  {
   "cell_type": "code",
   "execution_count": 11,
   "id": "ae0b0ff9",
   "metadata": {},
   "outputs": [
    {
     "data": {
      "text/plain": [
       "DatetimeIndex(['2016-01-01', '2016-01-08'], dtype='datetime64[ns]', freq='W-FRI')"
      ]
     },
     "execution_count": 11,
     "metadata": {},
     "output_type": "execute_result"
    }
   ],
   "source": [
    "pd.date_range(start = '2016-01-01', end = '2016-01-10', freq = 'W-FRI') # takes Friday as the day in the week for the range"
   ]
  },
  {
   "cell_type": "code",
   "execution_count": 12,
   "id": "9d02d989",
   "metadata": {},
   "outputs": [
    {
     "data": {
      "text/plain": [
       "DatetimeIndex(['2016-01-01 00:00:00', '2016-01-01 01:00:00',\n",
       "               '2016-01-01 02:00:00', '2016-01-01 03:00:00',\n",
       "               '2016-01-01 04:00:00', '2016-01-01 05:00:00',\n",
       "               '2016-01-01 06:00:00', '2016-01-01 07:00:00',\n",
       "               '2016-01-01 08:00:00', '2016-01-01 09:00:00',\n",
       "               ...\n",
       "               '2016-01-09 15:00:00', '2016-01-09 16:00:00',\n",
       "               '2016-01-09 17:00:00', '2016-01-09 18:00:00',\n",
       "               '2016-01-09 19:00:00', '2016-01-09 20:00:00',\n",
       "               '2016-01-09 21:00:00', '2016-01-09 22:00:00',\n",
       "               '2016-01-09 23:00:00', '2016-01-10 00:00:00'],\n",
       "              dtype='datetime64[ns]', length=217, freq='H')"
      ]
     },
     "execution_count": 12,
     "metadata": {},
     "output_type": "execute_result"
    }
   ],
   "source": [
    "pd.date_range(start = '2016-01-01', end = '2016-01-10', freq = 'H') # lists out every hour in the specified range"
   ]
  },
  {
   "cell_type": "code",
   "execution_count": 13,
   "id": "b1499e7a",
   "metadata": {},
   "outputs": [
    {
     "data": {
      "text/plain": [
       "DatetimeIndex(['2016-01-31', '2016-02-29', '2016-03-31', '2016-04-30',\n",
       "               '2016-05-31', '2016-06-30', '2016-07-31', '2016-08-31',\n",
       "               '2016-09-30', '2016-10-31', '2016-11-30', '2016-12-31'],\n",
       "              dtype='datetime64[ns]', freq='M')"
      ]
     },
     "execution_count": 13,
     "metadata": {},
     "output_type": "execute_result"
    }
   ],
   "source": [
    "pd.date_range(start = '2016-01-01', end = '2016-12-31', freq = 'M') # gives the month end of every month in the range"
   ]
  },
  {
   "cell_type": "code",
   "execution_count": 14,
   "id": "53dad34b",
   "metadata": {},
   "outputs": [
    {
     "data": {
      "text/plain": [
       "DatetimeIndex(['2016-01-01', '2016-02-01', '2016-03-01', '2016-04-01',\n",
       "               '2016-05-01', '2016-06-01', '2016-07-01', '2016-08-01',\n",
       "               '2016-09-01', '2016-10-01', '2016-11-01', '2016-12-01'],\n",
       "              dtype='datetime64[ns]', freq='MS')"
      ]
     },
     "execution_count": 14,
     "metadata": {},
     "output_type": "execute_result"
    }
   ],
   "source": [
    "pd.date_range(start = '2016-01-01', end = '2016-12-31', freq = 'MS') # gives the month start for every month in the range "
   ]
  },
  {
   "cell_type": "code",
   "execution_count": 15,
   "id": "55eaf996",
   "metadata": {},
   "outputs": [
    {
     "data": {
      "text/plain": [
       "DatetimeIndex(['2016-12-31', '2017-12-31', '2018-12-31', '2019-12-31',\n",
       "               '2020-12-31', '2021-12-31', '2022-12-31', '2023-12-31',\n",
       "               '2024-12-31', '2025-12-31', '2026-12-31', '2027-12-31',\n",
       "               '2028-12-31', '2029-12-31', '2030-12-31', '2031-12-31',\n",
       "               '2032-12-31', '2033-12-31', '2034-12-31', '2035-12-31',\n",
       "               '2036-12-31', '2037-12-31', '2038-12-31', '2039-12-31',\n",
       "               '2040-12-31', '2041-12-31', '2042-12-31', '2043-12-31',\n",
       "               '2044-12-31', '2045-12-31', '2046-12-31', '2047-12-31',\n",
       "               '2048-12-31', '2049-12-31'],\n",
       "              dtype='datetime64[ns]', freq='A-DEC')"
      ]
     },
     "execution_count": 15,
     "metadata": {},
     "output_type": "execute_result"
    }
   ],
   "source": [
    "pd.date_range(start = '2016-01-01', end = '2050-01-10', freq = 'A') # gives the year end of every year in the range"
   ]
  },
  {
   "cell_type": "markdown",
   "id": "2a67c590",
   "metadata": {},
   "source": [
    "### Create Range of Dates with pd.date_range() method - Part 2"
   ]
  },
  {
   "cell_type": "code",
   "execution_count": 16,
   "id": "a857136c",
   "metadata": {},
   "outputs": [
    {
     "data": {
      "text/plain": [
       "DatetimeIndex(['2012-09-09', '2012-09-10', '2012-09-11', '2012-09-12',\n",
       "               '2012-09-13', '2012-09-14', '2012-09-15', '2012-09-16',\n",
       "               '2012-09-17', '2012-09-18', '2012-09-19', '2012-09-20',\n",
       "               '2012-09-21', '2012-09-22', '2012-09-23', '2012-09-24',\n",
       "               '2012-09-25', '2012-09-26', '2012-09-27', '2012-09-28',\n",
       "               '2012-09-29', '2012-09-30', '2012-10-01', '2012-10-02',\n",
       "               '2012-10-03'],\n",
       "              dtype='datetime64[ns]', freq='D')"
      ]
     },
     "execution_count": 16,
     "metadata": {},
     "output_type": "execute_result"
    }
   ],
   "source": [
    "pd.date_range(start = '2012-09-09', periods = 25, freq = 'D')# periods specifies the no.of values we want returned->25 days"
   ]
  },
  {
   "cell_type": "code",
   "execution_count": 18,
   "id": "06b8469a",
   "metadata": {},
   "outputs": [],
   "source": [
    "business_days = pd.date_range(start = '2012-09-09', periods = 50, freq = 'B') # returns 50 business days\n",
    "business_days"
   ]
  },
  {
   "cell_type": "code",
   "execution_count": 19,
   "id": "aa5cb6b5",
   "metadata": {},
   "outputs": [
    {
     "data": {
      "text/plain": [
       "50"
      ]
     },
     "execution_count": 19,
     "metadata": {},
     "output_type": "execute_result"
    }
   ],
   "source": [
    "len(business_days)"
   ]
  },
  {
   "cell_type": "code",
   "execution_count": 21,
   "id": "2a308ee4",
   "metadata": {},
   "outputs": [
    {
     "data": {
      "text/plain": [
       "DatetimeIndex(['2012-09-11', '2012-09-18', '2012-09-25', '2012-10-02',\n",
       "               '2012-10-09', '2012-10-16', '2012-10-23', '2012-10-30',\n",
       "               '2012-11-06', '2012-11-13'],\n",
       "              dtype='datetime64[ns]', freq='W-TUE')"
      ]
     },
     "execution_count": 21,
     "metadata": {},
     "output_type": "execute_result"
    }
   ],
   "source": [
    "pd.date_range(start = '2012-09-09', periods = 10, freq = 'W-TUE') # returns 10 weeks starting on Tuesday"
   ]
  },
  {
   "cell_type": "code",
   "execution_count": 23,
   "id": "bcbe45c5",
   "metadata": {},
   "outputs": [
    {
     "data": {
      "text/plain": [
       "DatetimeIndex(['2012-09-09 00:00:00', '2012-09-09 06:00:00',\n",
       "               '2012-09-09 12:00:00', '2012-09-09 18:00:00',\n",
       "               '2012-09-10 00:00:00', '2012-09-10 06:00:00',\n",
       "               '2012-09-10 12:00:00', '2012-09-10 18:00:00',\n",
       "               '2012-09-11 00:00:00', '2012-09-11 06:00:00',\n",
       "               '2012-09-11 12:00:00', '2012-09-11 18:00:00',\n",
       "               '2012-09-12 00:00:00', '2012-09-12 06:00:00',\n",
       "               '2012-09-12 12:00:00', '2012-09-12 18:00:00',\n",
       "               '2012-09-13 00:00:00', '2012-09-13 06:00:00',\n",
       "               '2012-09-13 12:00:00', '2012-09-13 18:00:00'],\n",
       "              dtype='datetime64[ns]', freq='6H')"
      ]
     },
     "execution_count": 23,
     "metadata": {},
     "output_type": "execute_result"
    }
   ],
   "source": [
    "pd.date_range(start = '2012-09-09', periods = 20, freq = '6H') # gives 20 6hr periods from start date "
   ]
  },
  {
   "cell_type": "markdown",
   "id": "8f69149d",
   "metadata": {},
   "source": [
    "### Create Range of Dates with pd.date_range() method - Part 3"
   ]
  },
  {
   "cell_type": "code",
   "execution_count": 24,
   "id": "1136a341",
   "metadata": {},
   "outputs": [
    {
     "data": {
      "text/plain": [
       "DatetimeIndex(['1999-12-12', '1999-12-13', '1999-12-14', '1999-12-15',\n",
       "               '1999-12-16', '1999-12-17', '1999-12-18', '1999-12-19',\n",
       "               '1999-12-20', '1999-12-21', '1999-12-22', '1999-12-23',\n",
       "               '1999-12-24', '1999-12-25', '1999-12-26', '1999-12-27',\n",
       "               '1999-12-28', '1999-12-29', '1999-12-30', '1999-12-31'],\n",
       "              dtype='datetime64[ns]', freq='D')"
      ]
     },
     "execution_count": 24,
     "metadata": {},
     "output_type": "execute_result"
    }
   ],
   "source": [
    "pd.date_range(end = '1999-12-31', periods = 20, freq = 'D') # gives 20 days before the end date"
   ]
  },
  {
   "cell_type": "code",
   "execution_count": 26,
   "id": "ce119390",
   "metadata": {},
   "outputs": [
    {
     "data": {
      "text/plain": [
       "DatetimeIndex(['1999-08-15', '1999-08-22', '1999-08-29', '1999-09-05',\n",
       "               '1999-09-12', '1999-09-19', '1999-09-26', '1999-10-03',\n",
       "               '1999-10-10', '1999-10-17', '1999-10-24', '1999-10-31',\n",
       "               '1999-11-07', '1999-11-14', '1999-11-21', '1999-11-28',\n",
       "               '1999-12-05', '1999-12-12', '1999-12-19', '1999-12-26'],\n",
       "              dtype='datetime64[ns]', freq='W-SUN')"
      ]
     },
     "execution_count": 26,
     "metadata": {},
     "output_type": "execute_result"
    }
   ],
   "source": [
    "pd.date_range(end = '1999-12-31', periods = 20, freq = 'W-SUN') # gives 20 weeks starting with Sunday before the end point"
   ]
  },
  {
   "cell_type": "code",
   "execution_count": 27,
   "id": "10a07d3e",
   "metadata": {},
   "outputs": [
    {
     "data": {
      "text/plain": [
       "DatetimeIndex(['1999-03-01', '1999-04-01', '1999-05-01', '1999-06-01',\n",
       "               '1999-07-01', '1999-08-01', '1999-09-01', '1999-10-01',\n",
       "               '1999-11-01', '1999-12-01'],\n",
       "              dtype='datetime64[ns]', freq='MS')"
      ]
     },
     "execution_count": 27,
     "metadata": {},
     "output_type": "execute_result"
    }
   ],
   "source": [
    "pd.date_range(end = '1999-12-31', periods = 10, freq = 'MS') # gives 10 month starts before the end date. "
   ]
  },
  {
   "cell_type": "markdown",
   "id": "0ebb609b",
   "metadata": {},
   "source": [
    "### The .dt Accessor"
   ]
  },
  {
   "cell_type": "code",
   "execution_count": 28,
   "id": "e346f5fe",
   "metadata": {},
   "outputs": [],
   "source": [
    "bunch_of_dates = pd.date_range(start = '2000-01-01', end = '2010-12-31', freq = '24D')"
   ]
  },
  {
   "cell_type": "code",
   "execution_count": 29,
   "id": "0710a277",
   "metadata": {},
   "outputs": [
    {
     "data": {
      "text/plain": [
       "0   2000-01-01\n",
       "1   2000-01-25\n",
       "2   2000-02-18\n",
       "dtype: datetime64[ns]"
      ]
     },
     "execution_count": 29,
     "metadata": {},
     "output_type": "execute_result"
    }
   ],
   "source": [
    "s = pd.Series(bunch_of_dates) # creates a series of pandas datetime objects\n",
    "s.head(3)"
   ]
  },
  {
   "cell_type": "code",
   "execution_count": 30,
   "id": "e0c30e7f",
   "metadata": {},
   "outputs": [
    {
     "data": {
      "text/plain": [
       "0       1\n",
       "1      25\n",
       "2      18\n",
       "3      13\n",
       "4       6\n",
       "       ..\n",
       "163    17\n",
       "164    11\n",
       "165     4\n",
       "166    28\n",
       "167    22\n",
       "Length: 168, dtype: int64"
      ]
     },
     "execution_count": 30,
     "metadata": {},
     "output_type": "execute_result"
    }
   ],
   "source": [
    "s.dt.day # gives the day no. for every entry (month also works)\n",
    "\n",
    "# have to add the .dt accessor to perfrom actions on dates(timestamps) in pandas"
   ]
  },
  {
   "cell_type": "code",
   "execution_count": 35,
   "id": "c18ada98",
   "metadata": {},
   "outputs": [
    {
     "data": {
      "text/plain": [
       "0      5\n",
       "1      1\n",
       "2      4\n",
       "3      0\n",
       "4      3\n",
       "      ..\n",
       "163    4\n",
       "164    0\n",
       "165    3\n",
       "166    6\n",
       "167    2\n",
       "Length: 168, dtype: int64"
      ]
     },
     "execution_count": 35,
     "metadata": {},
     "output_type": "execute_result"
    }
   ],
   "source": [
    "s.dt.weekday # give the weekday(in numbers format), can be used to check freq for some statistic"
   ]
  },
  {
   "cell_type": "code",
   "execution_count": 36,
   "id": "9db001fd",
   "metadata": {},
   "outputs": [
    {
     "data": {
      "text/plain": [
       "0       True\n",
       "1      False\n",
       "2      False\n",
       "3      False\n",
       "4      False\n",
       "       ...  \n",
       "163    False\n",
       "164    False\n",
       "165    False\n",
       "166    False\n",
       "167    False\n",
       "Length: 168, dtype: bool"
      ]
     },
     "execution_count": 36,
     "metadata": {},
     "output_type": "execute_result"
    }
   ],
   "source": [
    "s.dt.is_quarter_start # generates a boolean series, true if dates represents start of a quarter, can be used as a mask"
   ]
  },
  {
   "cell_type": "code",
   "execution_count": 39,
   "id": "bfde0adb",
   "metadata": {},
   "outputs": [
    {
     "data": {
      "text/plain": [
       "0     2000-01-01\n",
       "19    2001-04-01\n",
       "38    2002-07-01\n",
       "137   2009-01-01\n",
       "dtype: datetime64[ns]"
      ]
     },
     "execution_count": 39,
     "metadata": {},
     "output_type": "execute_result"
    }
   ],
   "source": [
    "mask = s.dt.is_quarter_start # using it as a mask\n",
    "s[mask] # found how many quarter starting dates are present in the series, can be used for more interesting findings\n",
    "\n",
    "# many more options like is_month_end, is_quarter_end etc. are also available."
   ]
  },
  {
   "cell_type": "markdown",
   "id": "059a6d30",
   "metadata": {},
   "source": [
    "### Import Financial Dataset with pandas_datareader Library"
   ]
  },
  {
   "cell_type": "markdown",
   "id": "290e47e0",
   "metadata": {},
   "source": [
    "Library for fetching financial data and returning it as a DataFrame."
   ]
  },
  {
   "cell_type": "code",
   "execution_count": 2,
   "id": "fc310ca7",
   "metadata": {},
   "outputs": [],
   "source": [
    "from pandas_datareader import data"
   ]
  },
  {
   "cell_type": "code",
   "execution_count": 32,
   "id": "a40a89e9",
   "metadata": {},
   "outputs": [
    {
     "data": {
      "text/html": [
       "<div>\n",
       "<style scoped>\n",
       "    .dataframe tbody tr th:only-of-type {\n",
       "        vertical-align: middle;\n",
       "    }\n",
       "\n",
       "    .dataframe tbody tr th {\n",
       "        vertical-align: top;\n",
       "    }\n",
       "\n",
       "    .dataframe thead th {\n",
       "        text-align: right;\n",
       "    }\n",
       "</style>\n",
       "<table border=\"1\" class=\"dataframe\">\n",
       "  <thead>\n",
       "    <tr style=\"text-align: right;\">\n",
       "      <th></th>\n",
       "      <th>Open</th>\n",
       "      <th>High</th>\n",
       "      <th>Low</th>\n",
       "      <th>Close</th>\n",
       "      <th>Volume</th>\n",
       "    </tr>\n",
       "    <tr>\n",
       "      <th>Date</th>\n",
       "      <th></th>\n",
       "      <th></th>\n",
       "      <th></th>\n",
       "      <th></th>\n",
       "      <th></th>\n",
       "    </tr>\n",
       "  </thead>\n",
       "  <tbody>\n",
       "    <tr>\n",
       "      <th>2020-12-31</th>\n",
       "      <td>217.822</td>\n",
       "      <td>219.104</td>\n",
       "      <td>215.838</td>\n",
       "      <td>218.528</td>\n",
       "      <td>2.131555e+07</td>\n",
       "    </tr>\n",
       "    <tr>\n",
       "      <th>2020-12-30</th>\n",
       "      <td>221.277</td>\n",
       "      <td>221.674</td>\n",
       "      <td>217.595</td>\n",
       "      <td>217.802</td>\n",
       "      <td>2.063381e+07</td>\n",
       "    </tr>\n",
       "    <tr>\n",
       "      <th>2020-12-29</th>\n",
       "      <td>222.350</td>\n",
       "      <td>223.214</td>\n",
       "      <td>219.659</td>\n",
       "      <td>220.205</td>\n",
       "      <td>1.771353e+07</td>\n",
       "    </tr>\n",
       "  </tbody>\n",
       "</table>\n",
       "</div>"
      ],
      "text/plain": [
       "               Open     High      Low    Close        Volume\n",
       "Date                                                        \n",
       "2020-12-31  217.822  219.104  215.838  218.528  2.131555e+07\n",
       "2020-12-30  221.277  221.674  217.595  217.802  2.063381e+07\n",
       "2020-12-29  222.350  223.214  219.659  220.205  1.771353e+07"
      ]
     },
     "execution_count": 32,
     "metadata": {},
     "output_type": "execute_result"
    }
   ],
   "source": [
    "stocks = data.DataReader(name = 'MSFT', data_source = 'stooq', start = '2010-01-01', end = '2020-12-31')\n",
    "stocks.head(3)\n",
    "# financial dataframe fetched from API using pandas_datareader library, MSFT -> Microsoft stock"
   ]
  },
  {
   "cell_type": "code",
   "execution_count": 11,
   "id": "176c52c7",
   "metadata": {},
   "outputs": [
    {
     "data": {
      "text/plain": [
       "[DatetimeIndex(['2020-12-31', '2020-12-30', '2020-12-29', '2020-12-28',\n",
       "                '2020-12-24', '2020-12-23', '2020-12-22', '2020-12-21',\n",
       "                '2020-12-18', '2020-12-17',\n",
       "                ...\n",
       "                '2010-01-15', '2010-01-14', '2010-01-13', '2010-01-12',\n",
       "                '2010-01-11', '2010-01-08', '2010-01-07', '2010-01-06',\n",
       "                '2010-01-05', '2010-01-04'],\n",
       "               dtype='datetime64[ns]', name='Date', length=2769, freq=None),\n",
       " Index(['Open', 'High', 'Low', 'Close', 'Volume'], dtype='object')]"
      ]
     },
     "execution_count": 11,
     "metadata": {},
     "output_type": "execute_result"
    }
   ],
   "source": [
    "stocks.values\n",
    "stocks.columns\n",
    "stocks.index\n",
    "stocks.axes  # common operations on stocks df"
   ]
  },
  {
   "cell_type": "markdown",
   "id": "65874bda",
   "metadata": {},
   "source": [
    "### Selecting rows from a DataFrame with a DatetimeIndex"
   ]
  },
  {
   "cell_type": "code",
   "execution_count": 5,
   "id": "10fcc9f8",
   "metadata": {},
   "outputs": [
    {
     "data": {
      "text/plain": [
       "Open      2.408540e+01\n",
       "High      2.443890e+01\n",
       "Low       2.403580e+01\n",
       "Close     2.431780e+01\n",
       "Volume    4.886916e+07\n",
       "Name: 2010-01-04 00:00:00, dtype: float64"
      ]
     },
     "execution_count": 5,
     "metadata": {},
     "output_type": "execute_result"
    }
   ],
   "source": [
    "stocks.loc['2010-01-04']\n",
    "stocks.loc[pd.Timestamp('2010-01-04')] # extracting a row from the df using index labels"
   ]
  },
  {
   "cell_type": "code",
   "execution_count": 6,
   "id": "fdf34244",
   "metadata": {},
   "outputs": [
    {
     "data": {
      "text/plain": [
       "Open      2.408540e+01\n",
       "High      2.443890e+01\n",
       "Low       2.403580e+01\n",
       "Close     2.431780e+01\n",
       "Volume    4.886916e+07\n",
       "Name: 2010-01-04 00:00:00, dtype: float64"
      ]
     },
     "execution_count": 6,
     "metadata": {},
     "output_type": "execute_result"
    }
   ],
   "source": [
    "stocks.iloc[0] # extrating row from df based on index position\n",
    "stocks.iloc[500]\n",
    "stocks.iloc[-1] # extracting last row from df"
   ]
  },
  {
   "cell_type": "code",
   "execution_count": 9,
   "id": "6ba19522",
   "metadata": {},
   "outputs": [
    {
     "data": {
      "text/html": [
       "<div>\n",
       "<style scoped>\n",
       "    .dataframe tbody tr th:only-of-type {\n",
       "        vertical-align: middle;\n",
       "    }\n",
       "\n",
       "    .dataframe tbody tr th {\n",
       "        vertical-align: top;\n",
       "    }\n",
       "\n",
       "    .dataframe thead th {\n",
       "        text-align: right;\n",
       "    }\n",
       "</style>\n",
       "<table border=\"1\" class=\"dataframe\">\n",
       "  <thead>\n",
       "    <tr style=\"text-align: right;\">\n",
       "      <th></th>\n",
       "      <th>Open</th>\n",
       "      <th>High</th>\n",
       "      <th>Low</th>\n",
       "      <th>Close</th>\n",
       "      <th>Volume</th>\n",
       "    </tr>\n",
       "    <tr>\n",
       "      <th>Date</th>\n",
       "      <th></th>\n",
       "      <th></th>\n",
       "      <th></th>\n",
       "      <th></th>\n",
       "      <th></th>\n",
       "    </tr>\n",
       "  </thead>\n",
       "  <tbody>\n",
       "    <tr>\n",
       "      <th>2010-01-04</th>\n",
       "      <td>24.0854</td>\n",
       "      <td>24.4389</td>\n",
       "      <td>24.0358</td>\n",
       "      <td>24.3178</td>\n",
       "      <td>4.886916e+07</td>\n",
       "    </tr>\n",
       "    <tr>\n",
       "      <th>2010-01-05</th>\n",
       "      <td>24.2542</td>\n",
       "      <td>24.4389</td>\n",
       "      <td>24.0765</td>\n",
       "      <td>24.3267</td>\n",
       "      <td>6.331174e+07</td>\n",
       "    </tr>\n",
       "  </tbody>\n",
       "</table>\n",
       "</div>"
      ],
      "text/plain": [
       "               Open     High      Low    Close        Volume\n",
       "Date                                                        \n",
       "2010-01-04  24.0854  24.4389  24.0358  24.3178  4.886916e+07\n",
       "2010-01-05  24.2542  24.4389  24.0765  24.3267  6.331174e+07"
      ]
     },
     "execution_count": 9,
     "metadata": {},
     "output_type": "execute_result"
    }
   ],
   "source": [
    "# Extracting multiple rows from df -> feed a list \n",
    "# Will give error if a date that is not in the df is passed\n",
    "stocks.loc[[pd.Timestamp('2010-01-04'), pd.Timestamp('2010-01-05')]] # have to use pd.Timestamp() here"
   ]
  },
  {
   "cell_type": "code",
   "execution_count": 10,
   "id": "5aaca83d",
   "metadata": {},
   "outputs": [
    {
     "data": {
      "text/html": [
       "<div>\n",
       "<style scoped>\n",
       "    .dataframe tbody tr th:only-of-type {\n",
       "        vertical-align: middle;\n",
       "    }\n",
       "\n",
       "    .dataframe tbody tr th {\n",
       "        vertical-align: top;\n",
       "    }\n",
       "\n",
       "    .dataframe thead th {\n",
       "        text-align: right;\n",
       "    }\n",
       "</style>\n",
       "<table border=\"1\" class=\"dataframe\">\n",
       "  <thead>\n",
       "    <tr style=\"text-align: right;\">\n",
       "      <th></th>\n",
       "      <th>Open</th>\n",
       "      <th>High</th>\n",
       "      <th>Low</th>\n",
       "      <th>Close</th>\n",
       "      <th>Volume</th>\n",
       "    </tr>\n",
       "    <tr>\n",
       "      <th>Date</th>\n",
       "      <th></th>\n",
       "      <th></th>\n",
       "      <th></th>\n",
       "      <th></th>\n",
       "      <th></th>\n",
       "    </tr>\n",
       "  </thead>\n",
       "  <tbody>\n",
       "    <tr>\n",
       "      <th>2013-10-07</th>\n",
       "      <td>28.3306</td>\n",
       "      <td>28.4209</td>\n",
       "      <td>27.9940</td>\n",
       "      <td>28.0754</td>\n",
       "      <td>4.159240e+07</td>\n",
       "    </tr>\n",
       "    <tr>\n",
       "      <th>2013-10-04</th>\n",
       "      <td>28.4059</td>\n",
       "      <td>28.6601</td>\n",
       "      <td>28.3484</td>\n",
       "      <td>28.5668</td>\n",
       "      <td>3.913007e+07</td>\n",
       "    </tr>\n",
       "    <tr>\n",
       "      <th>2013-10-03</th>\n",
       "      <td>28.5668</td>\n",
       "      <td>28.6661</td>\n",
       "      <td>28.1747</td>\n",
       "      <td>28.5489</td>\n",
       "      <td>4.590812e+07</td>\n",
       "    </tr>\n",
       "    <tr>\n",
       "      <th>2013-10-02</th>\n",
       "      <td>28.1260</td>\n",
       "      <td>28.6928</td>\n",
       "      <td>28.0665</td>\n",
       "      <td>28.5976</td>\n",
       "      <td>5.566476e+07</td>\n",
       "    </tr>\n",
       "    <tr>\n",
       "      <th>2013-10-01</th>\n",
       "      <td>28.1102</td>\n",
       "      <td>28.3395</td>\n",
       "      <td>28.0754</td>\n",
       "      <td>28.3106</td>\n",
       "      <td>4.352740e+07</td>\n",
       "    </tr>\n",
       "  </tbody>\n",
       "</table>\n",
       "</div>"
      ],
      "text/plain": [
       "               Open     High      Low    Close        Volume\n",
       "Date                                                        \n",
       "2013-10-07  28.3306  28.4209  27.9940  28.0754  4.159240e+07\n",
       "2013-10-04  28.4059  28.6601  28.3484  28.5668  3.913007e+07\n",
       "2013-10-03  28.5668  28.6661  28.1747  28.5489  4.590812e+07\n",
       "2013-10-02  28.1260  28.6928  28.0665  28.5976  5.566476e+07\n",
       "2013-10-01  28.1102  28.3395  28.0754  28.3106  4.352740e+07"
      ]
     },
     "execution_count": 10,
     "metadata": {},
     "output_type": "execute_result"
    }
   ],
   "source": [
    "stocks.loc['2013-10-01' : '2013-10-07'] # slicing in python/pandas df, ranges are inclusive when using .loc[]"
   ]
  },
  {
   "cell_type": "code",
   "execution_count": 11,
   "id": "50835306",
   "metadata": {},
   "outputs": [
    {
     "data": {
      "text/html": [
       "<div>\n",
       "<style scoped>\n",
       "    .dataframe tbody tr th:only-of-type {\n",
       "        vertical-align: middle;\n",
       "    }\n",
       "\n",
       "    .dataframe tbody tr th {\n",
       "        vertical-align: top;\n",
       "    }\n",
       "\n",
       "    .dataframe thead th {\n",
       "        text-align: right;\n",
       "    }\n",
       "</style>\n",
       "<table border=\"1\" class=\"dataframe\">\n",
       "  <thead>\n",
       "    <tr style=\"text-align: right;\">\n",
       "      <th></th>\n",
       "      <th>Open</th>\n",
       "      <th>High</th>\n",
       "      <th>Low</th>\n",
       "      <th>Close</th>\n",
       "      <th>Volume</th>\n",
       "    </tr>\n",
       "    <tr>\n",
       "      <th>Date</th>\n",
       "      <th></th>\n",
       "      <th></th>\n",
       "      <th></th>\n",
       "      <th></th>\n",
       "      <th></th>\n",
       "    </tr>\n",
       "  </thead>\n",
       "  <tbody>\n",
       "    <tr>\n",
       "      <th>2013-10-07</th>\n",
       "      <td>28.3306</td>\n",
       "      <td>28.4209</td>\n",
       "      <td>27.9940</td>\n",
       "      <td>28.0754</td>\n",
       "      <td>4.159240e+07</td>\n",
       "    </tr>\n",
       "    <tr>\n",
       "      <th>2013-10-04</th>\n",
       "      <td>28.4059</td>\n",
       "      <td>28.6601</td>\n",
       "      <td>28.3484</td>\n",
       "      <td>28.5668</td>\n",
       "      <td>3.913007e+07</td>\n",
       "    </tr>\n",
       "    <tr>\n",
       "      <th>2013-10-03</th>\n",
       "      <td>28.5668</td>\n",
       "      <td>28.6661</td>\n",
       "      <td>28.1747</td>\n",
       "      <td>28.5489</td>\n",
       "      <td>4.590812e+07</td>\n",
       "    </tr>\n",
       "    <tr>\n",
       "      <th>2013-10-02</th>\n",
       "      <td>28.1260</td>\n",
       "      <td>28.6928</td>\n",
       "      <td>28.0665</td>\n",
       "      <td>28.5976</td>\n",
       "      <td>5.566476e+07</td>\n",
       "    </tr>\n",
       "    <tr>\n",
       "      <th>2013-10-01</th>\n",
       "      <td>28.1102</td>\n",
       "      <td>28.3395</td>\n",
       "      <td>28.0754</td>\n",
       "      <td>28.3106</td>\n",
       "      <td>4.352740e+07</td>\n",
       "    </tr>\n",
       "  </tbody>\n",
       "</table>\n",
       "</div>"
      ],
      "text/plain": [
       "               Open     High      Low    Close        Volume\n",
       "Date                                                        \n",
       "2013-10-07  28.3306  28.4209  27.9940  28.0754  4.159240e+07\n",
       "2013-10-04  28.4059  28.6601  28.3484  28.5668  3.913007e+07\n",
       "2013-10-03  28.5668  28.6661  28.1747  28.5489  4.590812e+07\n",
       "2013-10-02  28.1260  28.6928  28.0665  28.5976  5.566476e+07\n",
       "2013-10-01  28.1102  28.3395  28.0754  28.3106  4.352740e+07"
      ]
     },
     "execution_count": 11,
     "metadata": {},
     "output_type": "execute_result"
    }
   ],
   "source": [
    "stocks.truncate(before = '2013-10-01', after = '2013-10-07') # .truncate() -> same as slicing df using pandas"
   ]
  },
  {
   "cell_type": "code",
   "execution_count": 13,
   "id": "0962b38b",
   "metadata": {},
   "outputs": [
    {
     "data": {
      "text/html": [
       "<div>\n",
       "<style scoped>\n",
       "    .dataframe tbody tr th:only-of-type {\n",
       "        vertical-align: middle;\n",
       "    }\n",
       "\n",
       "    .dataframe tbody tr th {\n",
       "        vertical-align: top;\n",
       "    }\n",
       "\n",
       "    .dataframe thead th {\n",
       "        text-align: right;\n",
       "    }\n",
       "</style>\n",
       "<table border=\"1\" class=\"dataframe\">\n",
       "  <thead>\n",
       "    <tr style=\"text-align: right;\">\n",
       "      <th></th>\n",
       "      <th>Open</th>\n",
       "      <th>High</th>\n",
       "      <th>Low</th>\n",
       "      <th>Close</th>\n",
       "      <th>Volume</th>\n",
       "    </tr>\n",
       "    <tr>\n",
       "      <th>Date</th>\n",
       "      <th></th>\n",
       "      <th></th>\n",
       "      <th></th>\n",
       "      <th></th>\n",
       "      <th></th>\n",
       "    </tr>\n",
       "  </thead>\n",
       "  <tbody>\n",
       "    <tr>\n",
       "      <th>2017-01-11</th>\n",
       "      <td>57.6727</td>\n",
       "      <td>58.2436</td>\n",
       "      <td>57.5069</td>\n",
       "      <td>58.2079</td>\n",
       "      <td>2.218117e+07</td>\n",
       "    </tr>\n",
       "    <tr>\n",
       "      <th>2017-01-10</th>\n",
       "      <td>57.7830</td>\n",
       "      <td>58.0976</td>\n",
       "      <td>57.3689</td>\n",
       "      <td>57.6816</td>\n",
       "      <td>1.849459e+07</td>\n",
       "    </tr>\n",
       "    <tr>\n",
       "      <th>2017-01-09</th>\n",
       "      <td>57.8097</td>\n",
       "      <td>58.1075</td>\n",
       "      <td>57.6073</td>\n",
       "      <td>57.7015</td>\n",
       "      <td>2.018532e+07</td>\n",
       "    </tr>\n",
       "    <tr>\n",
       "      <th>2017-01-06</th>\n",
       "      <td>57.3868</td>\n",
       "      <td>58.1701</td>\n",
       "      <td>57.1456</td>\n",
       "      <td>57.8842</td>\n",
       "      <td>1.907929e+07</td>\n",
       "    </tr>\n",
       "    <tr>\n",
       "      <th>2017-01-05</th>\n",
       "      <td>57.2856</td>\n",
       "      <td>57.7193</td>\n",
       "      <td>57.1357</td>\n",
       "      <td>57.3868</td>\n",
       "      <td>2.318354e+07</td>\n",
       "    </tr>\n",
       "  </tbody>\n",
       "</table>\n",
       "</div>"
      ],
      "text/plain": [
       "               Open     High      Low    Close        Volume\n",
       "Date                                                        \n",
       "2017-01-11  57.6727  58.2436  57.5069  58.2079  2.218117e+07\n",
       "2017-01-10  57.7830  58.0976  57.3689  57.6816  1.849459e+07\n",
       "2017-01-09  57.8097  58.1075  57.6073  57.7015  2.018532e+07\n",
       "2017-01-06  57.3868  58.1701  57.1456  57.8842  1.907929e+07\n",
       "2017-01-05  57.2856  57.7193  57.1357  57.3868  2.318354e+07"
      ]
     },
     "execution_count": 13,
     "metadata": {},
     "output_type": "execute_result"
    }
   ],
   "source": [
    "stocks.iloc[1000 : 1005] # slicing with df's index positions, exclusive range when using .iloc[]"
   ]
  },
  {
   "cell_type": "code",
   "execution_count": 17,
   "id": "fd6c5492",
   "metadata": {},
   "outputs": [
    {
     "data": {
      "text/plain": [
       "DatetimeIndex(['1998-05-25', '1999-05-25', '2000-05-25', '2001-05-25',\n",
       "               '2002-05-25', '2003-05-25', '2004-05-25', '2005-05-25',\n",
       "               '2006-05-25', '2007-05-25', '2008-05-25', '2009-05-25',\n",
       "               '2010-05-25', '2011-05-25', '2012-05-25', '2013-05-25',\n",
       "               '2014-05-25', '2015-05-25', '2016-05-25', '2017-05-25',\n",
       "               '2018-05-25', '2019-05-25', '2020-05-25', '2021-05-25',\n",
       "               '2022-05-25', '2023-05-25'],\n",
       "              dtype='datetime64[ns]', freq='<DateOffset: years=1>')"
      ]
     },
     "execution_count": 17,
     "metadata": {},
     "output_type": "execute_result"
    }
   ],
   "source": [
    "# Challenge -> Find Microsoft stock price on your birthdays every year\n",
    "\n",
    "birthdays = pd.date_range(start = '1998-05-25', end = '2023-12-31', freq = pd.DateOffset(years = 1))\n",
    "birthdays\n",
    "# Use this freq param instead of 365 days to account for leap years etc."
   ]
  },
  {
   "cell_type": "code",
   "execution_count": 18,
   "id": "2c83a09a",
   "metadata": {},
   "outputs": [
    {
     "data": {
      "text/html": [
       "<div>\n",
       "<style scoped>\n",
       "    .dataframe tbody tr th:only-of-type {\n",
       "        vertical-align: middle;\n",
       "    }\n",
       "\n",
       "    .dataframe tbody tr th {\n",
       "        vertical-align: top;\n",
       "    }\n",
       "\n",
       "    .dataframe thead th {\n",
       "        text-align: right;\n",
       "    }\n",
       "</style>\n",
       "<table border=\"1\" class=\"dataframe\">\n",
       "  <thead>\n",
       "    <tr style=\"text-align: right;\">\n",
       "      <th></th>\n",
       "      <th>Open</th>\n",
       "      <th>High</th>\n",
       "      <th>Low</th>\n",
       "      <th>Close</th>\n",
       "      <th>Volume</th>\n",
       "    </tr>\n",
       "    <tr>\n",
       "      <th>Date</th>\n",
       "      <th></th>\n",
       "      <th></th>\n",
       "      <th></th>\n",
       "      <th></th>\n",
       "      <th></th>\n",
       "    </tr>\n",
       "  </thead>\n",
       "  <tbody>\n",
       "    <tr>\n",
       "      <th>2018-05-25</th>\n",
       "      <td>93.4084</td>\n",
       "      <td>94.0536</td>\n",
       "      <td>92.9903</td>\n",
       "      <td>93.4648</td>\n",
       "      <td>1.932557e+07</td>\n",
       "    </tr>\n",
       "    <tr>\n",
       "      <th>2017-05-25</th>\n",
       "      <td>64.2845</td>\n",
       "      <td>65.1314</td>\n",
       "      <td>64.2270</td>\n",
       "      <td>64.8871</td>\n",
       "      <td>2.343119e+07</td>\n",
       "    </tr>\n",
       "    <tr>\n",
       "      <th>2016-05-25</th>\n",
       "      <td>47.2139</td>\n",
       "      <td>47.7282</td>\n",
       "      <td>47.0929</td>\n",
       "      <td>47.4095</td>\n",
       "      <td>2.281371e+07</td>\n",
       "    </tr>\n",
       "    <tr>\n",
       "      <th>2012-05-25</th>\n",
       "      <td>23.7231</td>\n",
       "      <td>23.8542</td>\n",
       "      <td>23.5692</td>\n",
       "      <td>23.6109</td>\n",
       "      <td>3.631814e+07</td>\n",
       "    </tr>\n",
       "    <tr>\n",
       "      <th>2011-05-25</th>\n",
       "      <td>19.1236</td>\n",
       "      <td>19.2269</td>\n",
       "      <td>19.1078</td>\n",
       "      <td>19.1306</td>\n",
       "      <td>4.391404e+07</td>\n",
       "    </tr>\n",
       "    <tr>\n",
       "      <th>2010-05-25</th>\n",
       "      <td>20.1561</td>\n",
       "      <td>20.6913</td>\n",
       "      <td>19.9417</td>\n",
       "      <td>20.4828</td>\n",
       "      <td>1.249413e+08</td>\n",
       "    </tr>\n",
       "  </tbody>\n",
       "</table>\n",
       "</div>"
      ],
      "text/plain": [
       "               Open     High      Low    Close        Volume\n",
       "Date                                                        \n",
       "2018-05-25  93.4084  94.0536  92.9903  93.4648  1.932557e+07\n",
       "2017-05-25  64.2845  65.1314  64.2270  64.8871  2.343119e+07\n",
       "2016-05-25  47.2139  47.7282  47.0929  47.4095  2.281371e+07\n",
       "2012-05-25  23.7231  23.8542  23.5692  23.6109  3.631814e+07\n",
       "2011-05-25  19.1236  19.2269  19.1078  19.1306  4.391404e+07\n",
       "2010-05-25  20.1561  20.6913  19.9417  20.4828  1.249413e+08"
      ]
     },
     "execution_count": 18,
     "metadata": {},
     "output_type": "execute_result"
    }
   ],
   "source": [
    "birthdays_stocks = stocks.index.isin(birthdays)\n",
    "stocks.loc[birthdays_stocks]  # gives the stock Microsoft stock info on birthday, skips weekends since market is closed."
   ]
  },
  {
   "cell_type": "markdown",
   "id": "030805ae",
   "metadata": {},
   "source": [
    "### Timestamp Object Attributes and Methods"
   ]
  },
  {
   "cell_type": "code",
   "execution_count": 21,
   "id": "2416cda2",
   "metadata": {},
   "outputs": [
    {
     "data": {
      "text/plain": [
       "Timestamp('2019-01-08 00:00:00')"
      ]
     },
     "execution_count": 21,
     "metadata": {},
     "output_type": "execute_result"
    }
   ],
   "source": [
    "someday = stocks.index[500] # accessing df index(DatetimeIndex -> Timestamp object)\n",
    "someday"
   ]
  },
  {
   "cell_type": "code",
   "execution_count": 25,
   "id": "ceddc68e",
   "metadata": {},
   "outputs": [
    {
     "data": {
      "text/plain": [
       "8"
      ]
     },
     "execution_count": 25,
     "metadata": {},
     "output_type": "execute_result"
    }
   ],
   "source": [
    "# Attributes for Timestamp object\n",
    "someday.month\n",
    "someday.week\n",
    "someday.is_month_start\n",
    "someday.is_quarter_end\n",
    "someday.day"
   ]
  },
  {
   "cell_type": "code",
   "execution_count": 28,
   "id": "644c79ee",
   "metadata": {},
   "outputs": [
    {
     "data": {
      "text/plain": [
       "'Tuesday'"
      ]
     },
     "execution_count": 28,
     "metadata": {},
     "output_type": "execute_result"
    }
   ],
   "source": [
    "# Methods for timestamp object\n",
    "someday.month_name() \n",
    "someday.day_name() # returns the month, day in string format instead of numerical format"
   ]
  },
  {
   "cell_type": "code",
   "execution_count": 29,
   "id": "d67500a6",
   "metadata": {},
   "outputs": [
    {
     "data": {
      "text/plain": [
       "Index(['Thursday', 'Wednesday', 'Tuesday', 'Monday', 'Thursday', 'Wednesday',\n",
       "       'Tuesday', 'Monday', 'Friday', 'Thursday',\n",
       "       ...\n",
       "       'Friday', 'Thursday', 'Wednesday', 'Tuesday', 'Monday', 'Friday',\n",
       "       'Thursday', 'Wednesday', 'Tuesday', 'Monday'],\n",
       "      dtype='object', name='Date', length=2769)"
      ]
     },
     "execution_count": 29,
     "metadata": {},
     "output_type": "execute_result"
    }
   ],
   "source": [
    "stocks.index.day_name() # returns the day name for all indexes of df"
   ]
  },
  {
   "cell_type": "code",
   "execution_count": 33,
   "id": "5606b128",
   "metadata": {},
   "outputs": [
    {
     "data": {
      "text/html": [
       "<div>\n",
       "<style scoped>\n",
       "    .dataframe tbody tr th:only-of-type {\n",
       "        vertical-align: middle;\n",
       "    }\n",
       "\n",
       "    .dataframe tbody tr th {\n",
       "        vertical-align: top;\n",
       "    }\n",
       "\n",
       "    .dataframe thead th {\n",
       "        text-align: right;\n",
       "    }\n",
       "</style>\n",
       "<table border=\"1\" class=\"dataframe\">\n",
       "  <thead>\n",
       "    <tr style=\"text-align: right;\">\n",
       "      <th></th>\n",
       "      <th>Day of Week</th>\n",
       "      <th>Open</th>\n",
       "      <th>High</th>\n",
       "      <th>Low</th>\n",
       "      <th>Close</th>\n",
       "      <th>Volume</th>\n",
       "    </tr>\n",
       "    <tr>\n",
       "      <th>Date</th>\n",
       "      <th></th>\n",
       "      <th></th>\n",
       "      <th></th>\n",
       "      <th></th>\n",
       "      <th></th>\n",
       "      <th></th>\n",
       "    </tr>\n",
       "  </thead>\n",
       "  <tbody>\n",
       "    <tr>\n",
       "      <th>2020-12-31</th>\n",
       "      <td>Thursday</td>\n",
       "      <td>217.822</td>\n",
       "      <td>219.104</td>\n",
       "      <td>215.838</td>\n",
       "      <td>218.528</td>\n",
       "      <td>2.131555e+07</td>\n",
       "    </tr>\n",
       "    <tr>\n",
       "      <th>2020-12-30</th>\n",
       "      <td>Wednesday</td>\n",
       "      <td>221.277</td>\n",
       "      <td>221.674</td>\n",
       "      <td>217.595</td>\n",
       "      <td>217.802</td>\n",
       "      <td>2.063381e+07</td>\n",
       "    </tr>\n",
       "    <tr>\n",
       "      <th>2020-12-29</th>\n",
       "      <td>Tuesday</td>\n",
       "      <td>222.350</td>\n",
       "      <td>223.214</td>\n",
       "      <td>219.659</td>\n",
       "      <td>220.205</td>\n",
       "      <td>1.771353e+07</td>\n",
       "    </tr>\n",
       "    <tr>\n",
       "      <th>2020-12-28</th>\n",
       "      <td>Monday</td>\n",
       "      <td>220.504</td>\n",
       "      <td>222.071</td>\n",
       "      <td>219.123</td>\n",
       "      <td>221.010</td>\n",
       "      <td>1.825327e+07</td>\n",
       "    </tr>\n",
       "    <tr>\n",
       "      <th>2020-12-24</th>\n",
       "      <td>Thursday</td>\n",
       "      <td>217.545</td>\n",
       "      <td>219.689</td>\n",
       "      <td>217.326</td>\n",
       "      <td>218.855</td>\n",
       "      <td>1.073870e+07</td>\n",
       "    </tr>\n",
       "  </tbody>\n",
       "</table>\n",
       "</div>"
      ],
      "text/plain": [
       "           Day of Week     Open     High      Low    Close        Volume\n",
       "Date                                                                    \n",
       "2020-12-31    Thursday  217.822  219.104  215.838  218.528  2.131555e+07\n",
       "2020-12-30   Wednesday  221.277  221.674  217.595  217.802  2.063381e+07\n",
       "2020-12-29     Tuesday  222.350  223.214  219.659  220.205  1.771353e+07\n",
       "2020-12-28      Monday  220.504  222.071  219.123  221.010  1.825327e+07\n",
       "2020-12-24    Thursday  217.545  219.689  217.326  218.855  1.073870e+07"
      ]
     },
     "execution_count": 33,
     "metadata": {},
     "output_type": "execute_result"
    }
   ],
   "source": [
    "stocks.insert(0, 'Day of Week', stocks.index.day_name()) # inserting a new column in df\n",
    "stocks.head()"
   ]
  },
  {
   "cell_type": "code",
   "execution_count": 35,
   "id": "22bddc50",
   "metadata": {},
   "outputs": [],
   "source": [
    "stocks.insert(1, 'Is Start of Month', stocks.index.is_month_start) # adding a new bool column"
   ]
  },
  {
   "cell_type": "code",
   "execution_count": 38,
   "id": "d74268ef",
   "metadata": {},
   "outputs": [
    {
     "data": {
      "text/html": [
       "<div>\n",
       "<style scoped>\n",
       "    .dataframe tbody tr th:only-of-type {\n",
       "        vertical-align: middle;\n",
       "    }\n",
       "\n",
       "    .dataframe tbody tr th {\n",
       "        vertical-align: top;\n",
       "    }\n",
       "\n",
       "    .dataframe thead th {\n",
       "        text-align: right;\n",
       "    }\n",
       "</style>\n",
       "<table border=\"1\" class=\"dataframe\">\n",
       "  <thead>\n",
       "    <tr style=\"text-align: right;\">\n",
       "      <th></th>\n",
       "      <th>Day of Week</th>\n",
       "      <th>Is Start of Month</th>\n",
       "      <th>Open</th>\n",
       "      <th>High</th>\n",
       "      <th>Low</th>\n",
       "      <th>Close</th>\n",
       "      <th>Volume</th>\n",
       "    </tr>\n",
       "    <tr>\n",
       "      <th>Date</th>\n",
       "      <th></th>\n",
       "      <th></th>\n",
       "      <th></th>\n",
       "      <th></th>\n",
       "      <th></th>\n",
       "      <th></th>\n",
       "      <th></th>\n",
       "    </tr>\n",
       "  </thead>\n",
       "  <tbody>\n",
       "    <tr>\n",
       "      <th>2020-12-01</th>\n",
       "      <td>Tuesday</td>\n",
       "      <td>True</td>\n",
       "      <td>210.7540</td>\n",
       "      <td>213.5230</td>\n",
       "      <td>209.6020</td>\n",
       "      <td>212.4220</td>\n",
       "      <td>3.148286e+07</td>\n",
       "    </tr>\n",
       "    <tr>\n",
       "      <th>2020-10-01</th>\n",
       "      <td>Thursday</td>\n",
       "      <td>True</td>\n",
       "      <td>209.1950</td>\n",
       "      <td>209.6820</td>\n",
       "      <td>207.0900</td>\n",
       "      <td>208.2030</td>\n",
       "      <td>2.771505e+07</td>\n",
       "    </tr>\n",
       "    <tr>\n",
       "      <th>2020-09-01</th>\n",
       "      <td>Tuesday</td>\n",
       "      <td>True</td>\n",
       "      <td>220.9700</td>\n",
       "      <td>222.8960</td>\n",
       "      <td>219.9170</td>\n",
       "      <td>222.7170</td>\n",
       "      <td>2.631985e+07</td>\n",
       "    </tr>\n",
       "    <tr>\n",
       "      <th>2020-07-01</th>\n",
       "      <td>Wednesday</td>\n",
       "      <td>True</td>\n",
       "      <td>198.5920</td>\n",
       "      <td>201.7210</td>\n",
       "      <td>197.2420</td>\n",
       "      <td>200.1020</td>\n",
       "      <td>3.279741e+07</td>\n",
       "    </tr>\n",
       "    <tr>\n",
       "      <th>2020-06-01</th>\n",
       "      <td>Monday</td>\n",
       "      <td>True</td>\n",
       "      <td>178.4290</td>\n",
       "      <td>178.8860</td>\n",
       "      <td>177.3870</td>\n",
       "      <td>178.7180</td>\n",
       "      <td>2.318935e+07</td>\n",
       "    </tr>\n",
       "    <tr>\n",
       "      <th>...</th>\n",
       "      <td>...</td>\n",
       "      <td>...</td>\n",
       "      <td>...</td>\n",
       "      <td>...</td>\n",
       "      <td>...</td>\n",
       "      <td>...</td>\n",
       "      <td>...</td>\n",
       "    </tr>\n",
       "    <tr>\n",
       "      <th>2010-07-01</th>\n",
       "      <td>Thursday</td>\n",
       "      <td>True</td>\n",
       "      <td>18.1428</td>\n",
       "      <td>18.3235</td>\n",
       "      <td>17.8589</td>\n",
       "      <td>18.1964</td>\n",
       "      <td>1.173523e+08</td>\n",
       "    </tr>\n",
       "    <tr>\n",
       "      <th>2010-06-01</th>\n",
       "      <td>Tuesday</td>\n",
       "      <td>True</td>\n",
       "      <td>20.0906</td>\n",
       "      <td>20.6763</td>\n",
       "      <td>20.0559</td>\n",
       "      <td>20.3438</td>\n",
       "      <td>9.687786e+07</td>\n",
       "    </tr>\n",
       "    <tr>\n",
       "      <th>2010-04-01</th>\n",
       "      <td>Thursday</td>\n",
       "      <td>True</td>\n",
       "      <td>23.0619</td>\n",
       "      <td>23.2089</td>\n",
       "      <td>22.4861</td>\n",
       "      <td>22.9120</td>\n",
       "      <td>9.513903e+07</td>\n",
       "    </tr>\n",
       "    <tr>\n",
       "      <th>2010-03-01</th>\n",
       "      <td>Monday</td>\n",
       "      <td>True</td>\n",
       "      <td>22.6053</td>\n",
       "      <td>22.8277</td>\n",
       "      <td>22.4196</td>\n",
       "      <td>22.8048</td>\n",
       "      <td>5.570803e+07</td>\n",
       "    </tr>\n",
       "    <tr>\n",
       "      <th>2010-02-01</th>\n",
       "      <td>Monday</td>\n",
       "      <td>True</td>\n",
       "      <td>22.3144</td>\n",
       "      <td>22.3809</td>\n",
       "      <td>21.9382</td>\n",
       "      <td>22.3234</td>\n",
       "      <td>1.092082e+08</td>\n",
       "    </tr>\n",
       "  </tbody>\n",
       "</table>\n",
       "<p>85 rows × 7 columns</p>\n",
       "</div>"
      ],
      "text/plain": [
       "           Day of Week  Is Start of Month      Open      High       Low  \\\n",
       "Date                                                                      \n",
       "2020-12-01     Tuesday               True  210.7540  213.5230  209.6020   \n",
       "2020-10-01    Thursday               True  209.1950  209.6820  207.0900   \n",
       "2020-09-01     Tuesday               True  220.9700  222.8960  219.9170   \n",
       "2020-07-01   Wednesday               True  198.5920  201.7210  197.2420   \n",
       "2020-06-01      Monday               True  178.4290  178.8860  177.3870   \n",
       "...                ...                ...       ...       ...       ...   \n",
       "2010-07-01    Thursday               True   18.1428   18.3235   17.8589   \n",
       "2010-06-01     Tuesday               True   20.0906   20.6763   20.0559   \n",
       "2010-04-01    Thursday               True   23.0619   23.2089   22.4861   \n",
       "2010-03-01      Monday               True   22.6053   22.8277   22.4196   \n",
       "2010-02-01      Monday               True   22.3144   22.3809   21.9382   \n",
       "\n",
       "               Close        Volume  \n",
       "Date                                \n",
       "2020-12-01  212.4220  3.148286e+07  \n",
       "2020-10-01  208.2030  2.771505e+07  \n",
       "2020-09-01  222.7170  2.631985e+07  \n",
       "2020-07-01  200.1020  3.279741e+07  \n",
       "2020-06-01  178.7180  2.318935e+07  \n",
       "...              ...           ...  \n",
       "2010-07-01   18.1964  1.173523e+08  \n",
       "2010-06-01   20.3438  9.687786e+07  \n",
       "2010-04-01   22.9120  9.513903e+07  \n",
       "2010-03-01   22.8048  5.570803e+07  \n",
       "2010-02-01   22.3234  1.092082e+08  \n",
       "\n",
       "[85 rows x 7 columns]"
      ]
     },
     "execution_count": 38,
     "metadata": {},
     "output_type": "execute_result"
    }
   ],
   "source": [
    "stocks[stocks['Is Start of Month']] # filtering data based on condition"
   ]
  },
  {
   "cell_type": "markdown",
   "id": "e65bec04",
   "metadata": {},
   "source": [
    "### The pd.DateOffset Object"
   ]
  },
  {
   "cell_type": "code",
   "execution_count": 39,
   "id": "0f5367ba",
   "metadata": {},
   "outputs": [
    {
     "data": {
      "text/plain": [
       "Date\n",
       "2020-12-31    224.1040\n",
       "2020-12-30    226.6740\n",
       "2020-12-29    228.2140\n",
       "2020-12-28    227.0710\n",
       "2020-12-24    224.6890\n",
       "                ...   \n",
       "2010-01-08     29.2642\n",
       "2010-01-07     29.1232\n",
       "2010-01-06     29.4230\n",
       "2010-01-05     29.4389\n",
       "2010-01-04     29.4389\n",
       "Name: High, Length: 2769, dtype: float64"
      ]
     },
     "execution_count": 39,
     "metadata": {},
     "output_type": "execute_result"
    }
   ],
   "source": [
    "stocks['High'] + 5 # adding 5 to every value of 'High' column in df"
   ]
  },
  {
   "cell_type": "code",
   "execution_count": 40,
   "id": "b637e7fb",
   "metadata": {},
   "outputs": [
    {
     "data": {
      "text/plain": [
       "DatetimeIndex(['2021-01-05', '2021-01-04', '2021-01-03', '2021-01-02',\n",
       "               '2020-12-29', '2020-12-28', '2020-12-27', '2020-12-26',\n",
       "               '2020-12-23', '2020-12-22',\n",
       "               ...\n",
       "               '2010-01-20', '2010-01-19', '2010-01-18', '2010-01-17',\n",
       "               '2010-01-16', '2010-01-13', '2010-01-12', '2010-01-11',\n",
       "               '2010-01-10', '2010-01-09'],\n",
       "              dtype='datetime64[ns]', name='Date', length=2769, freq=None)"
      ]
     },
     "execution_count": 40,
     "metadata": {},
     "output_type": "execute_result"
    }
   ],
   "source": [
    "# To do this with Timestamps (datetimeIndex) throughout the df, use pd.DateOffset\n",
    "\n",
    "stocks.index + pd.DateOffset(days = 5) # adds 5 days to every date in the df"
   ]
  },
  {
   "cell_type": "code",
   "execution_count": 41,
   "id": "cf80ec15",
   "metadata": {},
   "outputs": [
    {
     "data": {
      "text/plain": [
       "DatetimeIndex(['2021-01-14', '2021-01-13', '2021-01-12', '2021-01-11',\n",
       "               '2021-01-07', '2021-01-06', '2021-01-05', '2021-01-04',\n",
       "               '2021-01-01', '2020-12-31',\n",
       "               ...\n",
       "               '2010-01-29', '2010-01-28', '2010-01-27', '2010-01-26',\n",
       "               '2010-01-25', '2010-01-22', '2010-01-21', '2010-01-20',\n",
       "               '2010-01-19', '2010-01-18'],\n",
       "              dtype='datetime64[ns]', name='Date', length=2769, freq=None)"
      ]
     },
     "execution_count": 41,
     "metadata": {},
     "output_type": "execute_result"
    }
   ],
   "source": [
    "stocks.index + pd.DateOffset(weeks = 2) # Adds 2 weeks to every date(you can then use this as a new Index for the df)"
   ]
  },
  {
   "cell_type": "code",
   "execution_count": 42,
   "id": "bbcbb39f",
   "metadata": {},
   "outputs": [
    {
     "data": {
      "text/plain": [
       "DatetimeIndex(['2022-04-02 06:02:00', '2022-04-01 06:02:00',\n",
       "               '2022-03-31 06:02:00', '2022-03-30 06:02:00',\n",
       "               '2022-03-26 06:02:00', '2022-03-25 06:02:00',\n",
       "               '2022-03-24 06:02:00', '2022-03-23 06:02:00',\n",
       "               '2022-03-20 06:02:00', '2022-03-19 06:02:00',\n",
       "               ...\n",
       "               '2011-04-17 06:02:00', '2011-04-16 06:02:00',\n",
       "               '2011-04-15 06:02:00', '2011-04-14 06:02:00',\n",
       "               '2011-04-13 06:02:00', '2011-04-10 06:02:00',\n",
       "               '2011-04-09 06:02:00', '2011-04-08 06:02:00',\n",
       "               '2011-04-07 06:02:00', '2011-04-06 06:02:00'],\n",
       "              dtype='datetime64[ns]', name='Date', length=2769, freq=None)"
      ]
     },
     "execution_count": 42,
     "metadata": {},
     "output_type": "execute_result"
    }
   ],
   "source": [
    "stocks.index + pd.DateOffset(years = 1, months = 3, days = 2, hours = 6, minutes = 2) # adds this to every date"
   ]
  },
  {
   "cell_type": "markdown",
   "id": "1ed163d1",
   "metadata": {},
   "source": [
    "### Timeseries Offsets"
   ]
  },
  {
   "cell_type": "code",
   "execution_count": 3,
   "id": "24a9684b",
   "metadata": {},
   "outputs": [
    {
     "data": {
      "text/html": [
       "<div>\n",
       "<style scoped>\n",
       "    .dataframe tbody tr th:only-of-type {\n",
       "        vertical-align: middle;\n",
       "    }\n",
       "\n",
       "    .dataframe tbody tr th {\n",
       "        vertical-align: top;\n",
       "    }\n",
       "\n",
       "    .dataframe thead th {\n",
       "        text-align: right;\n",
       "    }\n",
       "</style>\n",
       "<table border=\"1\" class=\"dataframe\">\n",
       "  <thead>\n",
       "    <tr style=\"text-align: right;\">\n",
       "      <th></th>\n",
       "      <th>Open</th>\n",
       "      <th>High</th>\n",
       "      <th>Low</th>\n",
       "      <th>Close</th>\n",
       "      <th>Volume</th>\n",
       "    </tr>\n",
       "    <tr>\n",
       "      <th>Date</th>\n",
       "      <th></th>\n",
       "      <th></th>\n",
       "      <th></th>\n",
       "      <th></th>\n",
       "      <th></th>\n",
       "    </tr>\n",
       "  </thead>\n",
       "  <tbody>\n",
       "    <tr>\n",
       "      <th>2020-12-31</th>\n",
       "      <td>217.822</td>\n",
       "      <td>219.104</td>\n",
       "      <td>215.838</td>\n",
       "      <td>218.528</td>\n",
       "      <td>2.131555e+07</td>\n",
       "    </tr>\n",
       "    <tr>\n",
       "      <th>2020-12-30</th>\n",
       "      <td>221.277</td>\n",
       "      <td>221.674</td>\n",
       "      <td>217.595</td>\n",
       "      <td>217.802</td>\n",
       "      <td>2.063381e+07</td>\n",
       "    </tr>\n",
       "    <tr>\n",
       "      <th>2020-12-29</th>\n",
       "      <td>222.350</td>\n",
       "      <td>223.214</td>\n",
       "      <td>219.659</td>\n",
       "      <td>220.205</td>\n",
       "      <td>1.771353e+07</td>\n",
       "    </tr>\n",
       "  </tbody>\n",
       "</table>\n",
       "</div>"
      ],
      "text/plain": [
       "               Open     High      Low    Close        Volume\n",
       "Date                                                        \n",
       "2020-12-31  217.822  219.104  215.838  218.528  2.131555e+07\n",
       "2020-12-30  221.277  221.674  217.595  217.802  2.063381e+07\n",
       "2020-12-29  222.350  223.214  219.659  220.205  1.771353e+07"
      ]
     },
     "execution_count": 3,
     "metadata": {},
     "output_type": "execute_result"
    }
   ],
   "source": [
    "stocks = data.DataReader(name = 'MSFT', data_source = 'stooq', start = '2010-01-01', end = '2020-12-31')\n",
    "stocks.head(3)"
   ]
  },
  {
   "cell_type": "code",
   "execution_count": null,
   "id": "bffb0e00",
   "metadata": {},
   "outputs": [],
   "source": [
    "stocks.index + pd.tseries.offsets.MonthEnd()"
   ]
  }
 ],
 "metadata": {
  "kernelspec": {
   "display_name": "Python 3 (ipykernel)",
   "language": "python",
   "name": "python3"
  },
  "language_info": {
   "codemirror_mode": {
    "name": "ipython",
    "version": 3
   },
   "file_extension": ".py",
   "mimetype": "text/x-python",
   "name": "python",
   "nbconvert_exporter": "python",
   "pygments_lexer": "ipython3",
   "version": "3.10.9"
  }
 },
 "nbformat": 4,
 "nbformat_minor": 5
}
