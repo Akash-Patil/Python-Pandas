{
 "cells": [
  {
   "cell_type": "code",
   "execution_count": 1,
   "id": "17e64bb9",
   "metadata": {},
   "outputs": [],
   "source": [
    "import pandas as pd"
   ]
  },
  {
   "cell_type": "markdown",
   "id": "a21efc71",
   "metadata": {},
   "source": [
    "### Create a Series object from a list\n",
    "\n",
    "1-D labelled array, represents 1 column of data in a pandas dataset"
   ]
  },
  {
   "cell_type": "code",
   "execution_count": 2,
   "id": "2fa88271",
   "metadata": {},
   "outputs": [
    {
     "data": {
      "text/plain": [
       "0      Jack\n",
       "1      Park\n",
       "2      Hems\n",
       "3    Parker\n",
       "dtype: object"
      ]
     },
     "execution_count": 2,
     "metadata": {},
     "output_type": "execute_result"
    }
   ],
   "source": [
    "people = ['Jack', 'Park', 'Hems', 'Parker']\n",
    "pd.Series(people)"
   ]
  },
  {
   "cell_type": "markdown",
   "id": "3281d26e",
   "metadata": {},
   "source": [
    "### Create a Series object from a Dictionary"
   ]
  },
  {
   "cell_type": "code",
   "execution_count": 3,
   "id": "689e98a3",
   "metadata": {},
   "outputs": [
    {
     "data": {
      "text/plain": [
       "Salmon    Orange\n",
       "Tuna         Red\n",
       "Eel        Brown\n",
       "dtype: object"
      ]
     },
     "execution_count": 3,
     "metadata": {},
     "output_type": "execute_result"
    }
   ],
   "source": [
    "sushi = {\n",
    "    'Salmon' : 'Orange',\n",
    "    'Tuna' : 'Red',\n",
    "    'Eel' : 'Brown'\n",
    "}\n",
    "\n",
    "pd.Series(sushi)"
   ]
  },
  {
   "cell_type": "markdown",
   "id": "cc64f688",
   "metadata": {},
   "source": [
    "Here, Series has a custom label, values and numeric index positions(not visible here). Unlike dicts, Series can have duplicate labels(keys in dicts)."
   ]
  },
  {
   "cell_type": "markdown",
   "id": "04ea2bbf",
   "metadata": {},
   "source": [
    "### Intro to Methods"
   ]
  },
  {
   "cell_type": "code",
   "execution_count": 4,
   "id": "db11ef27",
   "metadata": {},
   "outputs": [
    {
     "data": {
      "text/plain": [
       "4.5"
      ]
     },
     "execution_count": 4,
     "metadata": {},
     "output_type": "execute_result"
    }
   ],
   "source": [
    "prices = pd.Series([3,4,5,6])\n",
    "prices.sum()\n",
    "prices.product()\n",
    "prices.mean()"
   ]
  },
  {
   "cell_type": "markdown",
   "id": "cf995868",
   "metadata": {},
   "source": [
    "### Intro to Attributes"
   ]
  },
  {
   "cell_type": "code",
   "execution_count": 6,
   "id": "98b5b5df",
   "metadata": {},
   "outputs": [
    {
     "data": {
      "text/plain": [
       "0    like\n",
       "1    dont\n",
       "2     fry\n",
       "3     pan\n",
       "dtype: object"
      ]
     },
     "execution_count": 6,
     "metadata": {},
     "output_type": "execute_result"
    }
   ],
   "source": [
    "words = pd.Series(['like', 'dont', 'fry', 'pan'])\n",
    "words"
   ]
  },
  {
   "cell_type": "code",
   "execution_count": 7,
   "id": "b0421bef",
   "metadata": {},
   "outputs": [
    {
     "data": {
      "text/plain": [
       "4"
      ]
     },
     "execution_count": 7,
     "metadata": {},
     "output_type": "execute_result"
    }
   ],
   "source": [
    "words.size"
   ]
  },
  {
   "cell_type": "code",
   "execution_count": 8,
   "id": "6b81f38f",
   "metadata": {},
   "outputs": [
    {
     "data": {
      "text/plain": [
       "True"
      ]
     },
     "execution_count": 8,
     "metadata": {},
     "output_type": "execute_result"
    }
   ],
   "source": [
    "words.is_unique"
   ]
  },
  {
   "cell_type": "code",
   "execution_count": 9,
   "id": "34a22292",
   "metadata": {},
   "outputs": [
    {
     "data": {
      "text/plain": [
       "array(['like', 'dont', 'fry', 'pan'], dtype=object)"
      ]
     },
     "execution_count": 9,
     "metadata": {},
     "output_type": "execute_result"
    }
   ],
   "source": [
    "words.values   # stores values in ndarray"
   ]
  },
  {
   "cell_type": "code",
   "execution_count": 10,
   "id": "2abec863",
   "metadata": {},
   "outputs": [
    {
     "data": {
      "text/plain": [
       "RangeIndex(start=0, stop=4, step=1)"
      ]
     },
     "execution_count": 10,
     "metadata": {},
     "output_type": "execute_result"
    }
   ],
   "source": [
    "words.index"
   ]
  },
  {
   "cell_type": "code",
   "execution_count": 11,
   "id": "d8ad9819",
   "metadata": {},
   "outputs": [
    {
     "data": {
      "text/plain": [
       "numpy.ndarray"
      ]
     },
     "execution_count": 11,
     "metadata": {},
     "output_type": "execute_result"
    }
   ],
   "source": [
    "type(words.values)"
   ]
  },
  {
   "cell_type": "code",
   "execution_count": 12,
   "id": "422b1877",
   "metadata": {},
   "outputs": [
    {
     "data": {
      "text/plain": [
       "dtype('O')"
      ]
     },
     "execution_count": 12,
     "metadata": {},
     "output_type": "execute_result"
    }
   ],
   "source": [
    "words.dtype"
   ]
  },
  {
   "cell_type": "markdown",
   "id": "cac76ac3",
   "metadata": {},
   "source": [
    "### Paramters and Arguments"
   ]
  },
  {
   "cell_type": "code",
   "execution_count": 9,
   "id": "d91bebae",
   "metadata": {},
   "outputs": [
    {
     "data": {
      "text/plain": [
       "Mon        apple\n",
       "Tue         pear\n",
       "Wed       orange\n",
       "Thurs    bannana\n",
       "Fri        grape\n",
       "Fri       cherry\n",
       "dtype: object"
      ]
     },
     "execution_count": 9,
     "metadata": {},
     "output_type": "execute_result"
    }
   ],
   "source": [
    "fruits = ['apple', 'pear', 'orange', 'bannana', 'grape', 'cherry']  \n",
    "days = ['Mon', 'Tue', 'Wed', 'Thurs', 'Fri', 'Fri'] # Duplicate index possible in Series\n",
    "\n",
    "pd.Series(fruits, days)  # shift + tab to get method param details\n",
    "pd.Series(data = fruits, index = days) # Explicit  declaration of params\n",
    "\n",
    "#pd.Series(fruits, index = weekdays) this also works if needed"
   ]
  },
  {
   "cell_type": "markdown",
   "id": "1b042cb1",
   "metadata": {},
   "source": [
    "### Import Series with the pd.read_csv Function"
   ]
  },
  {
   "cell_type": "code",
   "execution_count": 10,
   "id": "19cb9cd5",
   "metadata": {},
   "outputs": [
    {
     "data": {
      "text/html": [
       "<div>\n",
       "<style scoped>\n",
       "    .dataframe tbody tr th:only-of-type {\n",
       "        vertical-align: middle;\n",
       "    }\n",
       "\n",
       "    .dataframe tbody tr th {\n",
       "        vertical-align: top;\n",
       "    }\n",
       "\n",
       "    .dataframe thead th {\n",
       "        text-align: right;\n",
       "    }\n",
       "</style>\n",
       "<table border=\"1\" class=\"dataframe\">\n",
       "  <thead>\n",
       "    <tr style=\"text-align: right;\">\n",
       "      <th></th>\n",
       "      <th>Pokemon</th>\n",
       "      <th>Type</th>\n",
       "    </tr>\n",
       "  </thead>\n",
       "  <tbody>\n",
       "    <tr>\n",
       "      <th>0</th>\n",
       "      <td>Bulbasaur</td>\n",
       "      <td>Grass</td>\n",
       "    </tr>\n",
       "    <tr>\n",
       "      <th>1</th>\n",
       "      <td>Ivysaur</td>\n",
       "      <td>Grass</td>\n",
       "    </tr>\n",
       "    <tr>\n",
       "      <th>2</th>\n",
       "      <td>Venusaur</td>\n",
       "      <td>Grass</td>\n",
       "    </tr>\n",
       "    <tr>\n",
       "      <th>3</th>\n",
       "      <td>Charmander</td>\n",
       "      <td>Fire</td>\n",
       "    </tr>\n",
       "    <tr>\n",
       "      <th>4</th>\n",
       "      <td>Charmeleon</td>\n",
       "      <td>Fire</td>\n",
       "    </tr>\n",
       "    <tr>\n",
       "      <th>...</th>\n",
       "      <td>...</td>\n",
       "      <td>...</td>\n",
       "    </tr>\n",
       "    <tr>\n",
       "      <th>716</th>\n",
       "      <td>Yveltal</td>\n",
       "      <td>Dark</td>\n",
       "    </tr>\n",
       "    <tr>\n",
       "      <th>717</th>\n",
       "      <td>Zygarde</td>\n",
       "      <td>Dragon</td>\n",
       "    </tr>\n",
       "    <tr>\n",
       "      <th>718</th>\n",
       "      <td>Diancie</td>\n",
       "      <td>Rock</td>\n",
       "    </tr>\n",
       "    <tr>\n",
       "      <th>719</th>\n",
       "      <td>Hoopa</td>\n",
       "      <td>Psychic</td>\n",
       "    </tr>\n",
       "    <tr>\n",
       "      <th>720</th>\n",
       "      <td>Volcanion</td>\n",
       "      <td>Fire</td>\n",
       "    </tr>\n",
       "  </tbody>\n",
       "</table>\n",
       "<p>721 rows × 2 columns</p>\n",
       "</div>"
      ],
      "text/plain": [
       "        Pokemon     Type\n",
       "0     Bulbasaur    Grass\n",
       "1       Ivysaur    Grass\n",
       "2      Venusaur    Grass\n",
       "3    Charmander     Fire\n",
       "4    Charmeleon     Fire\n",
       "..          ...      ...\n",
       "716     Yveltal     Dark\n",
       "717     Zygarde   Dragon\n",
       "718     Diancie     Rock\n",
       "719       Hoopa  Psychic\n",
       "720   Volcanion     Fire\n",
       "\n",
       "[721 rows x 2 columns]"
      ]
     },
     "execution_count": 10,
     "metadata": {},
     "output_type": "execute_result"
    }
   ],
   "source": [
    "pd.read_csv('pokemon.csv') # creates a pandas dataframe by default(Imports into a dataframe), dataframe used for 1 col or more"
   ]
  },
  {
   "cell_type": "code",
   "execution_count": 11,
   "id": "2221d96b",
   "metadata": {},
   "outputs": [
    {
     "data": {
      "text/html": [
       "<div>\n",
       "<style scoped>\n",
       "    .dataframe tbody tr th:only-of-type {\n",
       "        vertical-align: middle;\n",
       "    }\n",
       "\n",
       "    .dataframe tbody tr th {\n",
       "        vertical-align: top;\n",
       "    }\n",
       "\n",
       "    .dataframe thead th {\n",
       "        text-align: right;\n",
       "    }\n",
       "</style>\n",
       "<table border=\"1\" class=\"dataframe\">\n",
       "  <thead>\n",
       "    <tr style=\"text-align: right;\">\n",
       "      <th></th>\n",
       "      <th>Pokemon</th>\n",
       "    </tr>\n",
       "  </thead>\n",
       "  <tbody>\n",
       "    <tr>\n",
       "      <th>0</th>\n",
       "      <td>Bulbasaur</td>\n",
       "    </tr>\n",
       "    <tr>\n",
       "      <th>1</th>\n",
       "      <td>Ivysaur</td>\n",
       "    </tr>\n",
       "    <tr>\n",
       "      <th>2</th>\n",
       "      <td>Venusaur</td>\n",
       "    </tr>\n",
       "    <tr>\n",
       "      <th>3</th>\n",
       "      <td>Charmander</td>\n",
       "    </tr>\n",
       "    <tr>\n",
       "      <th>4</th>\n",
       "      <td>Charmeleon</td>\n",
       "    </tr>\n",
       "    <tr>\n",
       "      <th>...</th>\n",
       "      <td>...</td>\n",
       "    </tr>\n",
       "    <tr>\n",
       "      <th>716</th>\n",
       "      <td>Yveltal</td>\n",
       "    </tr>\n",
       "    <tr>\n",
       "      <th>717</th>\n",
       "      <td>Zygarde</td>\n",
       "    </tr>\n",
       "    <tr>\n",
       "      <th>718</th>\n",
       "      <td>Diancie</td>\n",
       "    </tr>\n",
       "    <tr>\n",
       "      <th>719</th>\n",
       "      <td>Hoopa</td>\n",
       "    </tr>\n",
       "    <tr>\n",
       "      <th>720</th>\n",
       "      <td>Volcanion</td>\n",
       "    </tr>\n",
       "  </tbody>\n",
       "</table>\n",
       "<p>721 rows × 1 columns</p>\n",
       "</div>"
      ],
      "text/plain": [
       "        Pokemon\n",
       "0     Bulbasaur\n",
       "1       Ivysaur\n",
       "2      Venusaur\n",
       "3    Charmander\n",
       "4    Charmeleon\n",
       "..          ...\n",
       "716     Yveltal\n",
       "717     Zygarde\n",
       "718     Diancie\n",
       "719       Hoopa\n",
       "720   Volcanion\n",
       "\n",
       "[721 rows x 1 columns]"
      ]
     },
     "execution_count": 11,
     "metadata": {},
     "output_type": "execute_result"
    }
   ],
   "source": [
    "pd.read_csv('pokemon.csv', usecols = ['Pokemon']) # Still gives a dataframe"
   ]
  },
  {
   "cell_type": "code",
   "execution_count": 45,
   "id": "47cf0763",
   "metadata": {},
   "outputs": [
    {
     "data": {
      "text/plain": [
       "0       Bulbasaur\n",
       "1         Ivysaur\n",
       "2        Venusaur\n",
       "3      Charmander\n",
       "4      Charmeleon\n",
       "          ...    \n",
       "716       Yveltal\n",
       "717       Zygarde\n",
       "718       Diancie\n",
       "719         Hoopa\n",
       "720     Volcanion\n",
       "Name: Pokemon, Length: 721, dtype: object"
      ]
     },
     "execution_count": 45,
     "metadata": {},
     "output_type": "execute_result"
    }
   ],
   "source": [
    "pokemon = pd.read_csv('pokemon.csv', usecols = ['Pokemon']).squeeze(\"columns\") \n",
    "pokemon\n",
    "# squeeze the df, squeeze() creates a series from 1 col of data"
   ]
  },
  {
   "cell_type": "code",
   "execution_count": 19,
   "id": "40715f44",
   "metadata": {},
   "outputs": [
    {
     "data": {
      "text/plain": [
       "0        50.12\n",
       "1        54.10\n",
       "2        54.65\n",
       "3        52.38\n",
       "4        52.95\n",
       "         ...  \n",
       "3007    772.88\n",
       "3008    771.07\n",
       "3009    773.18\n",
       "3010    771.61\n",
       "3011    782.22\n",
       "Name: Stock Price, Length: 3012, dtype: float64"
      ]
     },
     "execution_count": 19,
     "metadata": {},
     "output_type": "execute_result"
    }
   ],
   "source": [
    "google = pd.read_csv('google_stock_price.csv', usecols = ['Stock Price']).squeeze()\n",
    "google"
   ]
  },
  {
   "cell_type": "markdown",
   "id": "d889702d",
   "metadata": {},
   "source": [
    "### Head and Tail methods on a Series"
   ]
  },
  {
   "cell_type": "code",
   "execution_count": 22,
   "id": "557fb4c6",
   "metadata": {},
   "outputs": [
    {
     "data": {
      "text/plain": [
       "0     Bulbasaur\n",
       "1       Ivysaur\n",
       "2      Venusaur\n",
       "3    Charmander\n",
       "4    Charmeleon\n",
       "5     Charizard\n",
       "6      Squirtle\n",
       "Name: Pokemon, dtype: object"
      ]
     },
     "execution_count": 22,
     "metadata": {},
     "output_type": "execute_result"
    }
   ],
   "source": [
    "pokemon.head(n = 7) # returns first n rows of a series, n=5 is default"
   ]
  },
  {
   "cell_type": "code",
   "execution_count": 24,
   "id": "fcfaf1c1",
   "metadata": {},
   "outputs": [
    {
     "data": {
      "text/plain": [
       "(717      Zygarde\n",
       " 718      Diancie\n",
       " 719        Hoopa\n",
       " 720    Volcanion\n",
       " Name: Pokemon, dtype: object,)"
      ]
     },
     "execution_count": 24,
     "metadata": {},
     "output_type": "execute_result"
    }
   ],
   "source": [
    "pokemon.tail(n = 4), # returns last n rows of a series, n=5 is default"
   ]
  },
  {
   "cell_type": "markdown",
   "id": "7ff408e2",
   "metadata": {},
   "source": [
    "### Python Built in Functions with Series"
   ]
  },
  {
   "cell_type": "code",
   "execution_count": 26,
   "id": "8e3b92fa",
   "metadata": {},
   "outputs": [
    {
     "data": {
      "text/plain": [
       "pandas.core.series.Series"
      ]
     },
     "execution_count": 26,
     "metadata": {},
     "output_type": "execute_result"
    }
   ],
   "source": [
    "len(pokemon)\n",
    "type(pokemon)"
   ]
  },
  {
   "cell_type": "code",
   "execution_count": null,
   "id": "645ab014",
   "metadata": {},
   "outputs": [],
   "source": [
    "dir(pokemon) # gives all the methods available for datatype"
   ]
  },
  {
   "cell_type": "code",
   "execution_count": 38,
   "id": "b129c43f",
   "metadata": {},
   "outputs": [
    {
     "data": {
      "text/plain": [
       "list"
      ]
     },
     "execution_count": 38,
     "metadata": {},
     "output_type": "execute_result"
    }
   ],
   "source": [
    "sorted(pokemon) # sorts the series\n",
    "type(sorted(pokemon)) # returns a list"
   ]
  },
  {
   "cell_type": "code",
   "execution_count": null,
   "id": "af6ce6f9",
   "metadata": {},
   "outputs": [],
   "source": [
    "list(pokemon) # coverts series to list"
   ]
  },
  {
   "cell_type": "code",
   "execution_count": null,
   "id": "277c5856",
   "metadata": {},
   "outputs": [],
   "source": [
    "list(pokemon) # converts series to dict (be careful that there is no duplicate for index in series while converting)"
   ]
  },
  {
   "cell_type": "code",
   "execution_count": 35,
   "id": "2fe75f8e",
   "metadata": {},
   "outputs": [
    {
     "data": {
      "text/plain": [
       "'Abomasnow'"
      ]
     },
     "execution_count": 35,
     "metadata": {},
     "output_type": "execute_result"
    }
   ],
   "source": [
    "max(pokemon) # min, max values of a series\n",
    "min(pokemon)"
   ]
  },
  {
   "cell_type": "markdown",
   "id": "eb53ca30",
   "metadata": {},
   "source": [
    "### The sort_values Method"
   ]
  },
  {
   "cell_type": "code",
   "execution_count": 41,
   "id": "082d6b5b",
   "metadata": {},
   "outputs": [
    {
     "data": {
      "text/plain": [
       "717     Zygarde\n",
       "633    Zweilous\n",
       "40        Zubat\n",
       "569       Zorua\n",
       "570     Zoroark\n",
       "Name: Pokemon, dtype: object"
      ]
     },
     "execution_count": 41,
     "metadata": {},
     "output_type": "execute_result"
    }
   ],
   "source": [
    "pokemon.sort_values(ascending = False).head() # sorts by values and returns a series, descending"
   ]
  },
  {
   "cell_type": "markdown",
   "id": "86c5e704",
   "metadata": {},
   "source": [
    "### The sort_index Method"
   ]
  },
  {
   "cell_type": "code",
   "execution_count": 42,
   "id": "3fdb3145",
   "metadata": {},
   "outputs": [
    {
     "data": {
      "text/plain": [
       "Pokemon\n",
       "Bulbasaur     Grass\n",
       "Ivysaur       Grass\n",
       "Venusaur      Grass\n",
       "Charmander     Fire\n",
       "Charmeleon     Fire\n",
       "Name: Type, dtype: object"
      ]
     },
     "execution_count": 42,
     "metadata": {},
     "output_type": "execute_result"
    }
   ],
   "source": [
    "pokemon = pd.read_csv('pokemon.csv', index_col = 'Pokemon').squeeze() # 2 cols in series, Pokemon used as index col\n",
    "pokemon.head()"
   ]
  },
  {
   "cell_type": "code",
   "execution_count": 43,
   "id": "0eb64ee0",
   "metadata": {},
   "outputs": [
    {
     "data": {
      "text/plain": [
       "Pokemon\n",
       "Abomasnow      Grass\n",
       "Abra         Psychic\n",
       "Absol           Dark\n",
       "Accelgor         Bug\n",
       "Aegislash      Steel\n",
       "              ...   \n",
       "Zoroark         Dark\n",
       "Zorua           Dark\n",
       "Zubat         Poison\n",
       "Zweilous        Dark\n",
       "Zygarde       Dragon\n",
       "Name: Type, Length: 721, dtype: object"
      ]
     },
     "execution_count": 43,
     "metadata": {},
     "output_type": "execute_result"
    }
   ],
   "source": [
    "pokemon.sort_index(ascending = True) # sorts series by index in ascending order"
   ]
  },
  {
   "cell_type": "markdown",
   "id": "88b4daea",
   "metadata": {},
   "source": [
    "### In keyword in Series"
   ]
  },
  {
   "cell_type": "code",
   "execution_count": 54,
   "id": "5c4d40c1",
   "metadata": {},
   "outputs": [
    {
     "data": {
      "text/plain": [
       "0       Bulbasaur\n",
       "1         Ivysaur\n",
       "2        Venusaur\n",
       "3      Charmander\n",
       "4      Charmeleon\n",
       "          ...    \n",
       "716       Yveltal\n",
       "717       Zygarde\n",
       "718       Diancie\n",
       "719         Hoopa\n",
       "720     Volcanion\n",
       "Name: Pokemon, Length: 721, dtype: object"
      ]
     },
     "execution_count": 54,
     "metadata": {},
     "output_type": "execute_result"
    }
   ],
   "source": [
    "pokemon = pd.read_csv('Pokemon.csv', usecols = ['Pokemon']).squeeze()\n",
    "pokemon"
   ]
  },
  {
   "cell_type": "code",
   "execution_count": 48,
   "id": "67738839",
   "metadata": {},
   "outputs": [
    {
     "data": {
      "text/plain": [
       "False"
      ]
     },
     "execution_count": 48,
     "metadata": {},
     "output_type": "execute_result"
    }
   ],
   "source": [
    "'Bulbasaur' in pokemon"
   ]
  },
  {
   "cell_type": "code",
   "execution_count": 50,
   "id": "a6c59655",
   "metadata": {},
   "outputs": [
    {
     "data": {
      "text/plain": [
       "True"
      ]
     },
     "execution_count": 50,
     "metadata": {},
     "output_type": "execute_result"
    }
   ],
   "source": [
    "100 in pokemon    # In case of Series, 'in' checks by default in index column (can use pokemon.index as well)"
   ]
  },
  {
   "cell_type": "code",
   "execution_count": 52,
   "id": "da652409",
   "metadata": {},
   "outputs": [
    {
     "data": {
      "text/plain": [
       "True"
      ]
     },
     "execution_count": 52,
     "metadata": {},
     "output_type": "execute_result"
    }
   ],
   "source": [
    "'Bulbasaur' in pokemon.values   # Uses 'in' to check in values col of a Series"
   ]
  },
  {
   "cell_type": "markdown",
   "id": "882fdc56",
   "metadata": {},
   "source": [
    "### Extract Series Value by Index Position"
   ]
  },
  {
   "cell_type": "code",
   "execution_count": 55,
   "id": "211202b5",
   "metadata": {},
   "outputs": [
    {
     "data": {
      "text/plain": [
       "0     Bulbasaur\n",
       "1       Ivysaur\n",
       "2      Venusaur\n",
       "3    Charmander\n",
       "4    Charmeleon\n",
       "Name: Pokemon, dtype: object"
      ]
     },
     "execution_count": 55,
     "metadata": {},
     "output_type": "execute_result"
    }
   ],
   "source": [
    "pokemon = pd.read_csv('Pokemon.csv', usecols = ['Pokemon']).squeeze('columns')\n",
    "pokemon.head()"
   ]
  },
  {
   "cell_type": "code",
   "execution_count": 57,
   "id": "9214156a",
   "metadata": {},
   "outputs": [
    {
     "data": {
      "text/plain": [
       "'Bulbasaur'"
      ]
     },
     "execution_count": 57,
     "metadata": {},
     "output_type": "execute_result"
    }
   ],
   "source": [
    "pokemon[0] # element extraction similar to list"
   ]
  },
  {
   "cell_type": "code",
   "execution_count": 58,
   "id": "4756e693",
   "metadata": {},
   "outputs": [
    {
     "data": {
      "text/plain": [
       "100    Electrode\n",
       "200        Unown\n",
       "300     Delcatty\n",
       "Name: Pokemon, dtype: object"
      ]
     },
     "execution_count": 58,
     "metadata": {},
     "output_type": "execute_result"
    }
   ],
   "source": [
    "pokemon[[100, 200, 300]] # extract values at multiple indexes in Series"
   ]
  },
  {
   "cell_type": "code",
   "execution_count": 59,
   "id": "3711b950",
   "metadata": {},
   "outputs": [
    {
     "data": {
      "text/plain": [
       "24      Pikachu\n",
       "25       Raichu\n",
       "26    Sandshrew\n",
       "27    Sandslash\n",
       "28      Nidoran\n",
       "Name: Pokemon, dtype: object"
      ]
     },
     "execution_count": 59,
     "metadata": {},
     "output_type": "execute_result"
    }
   ],
   "source": [
    "pokemon[24: 29] # splicing"
   ]
  },
  {
   "cell_type": "code",
   "execution_count": 66,
   "id": "b2ea128b",
   "metadata": {},
   "outputs": [
    {
     "data": {
      "text/plain": [
       "706       Klefki\n",
       "707     Phantump\n",
       "708    Trevenant\n",
       "709    Pumpkaboo\n",
       "Name: Pokemon, dtype: object"
      ]
     },
     "execution_count": 66,
     "metadata": {},
     "output_type": "execute_result"
    }
   ],
   "source": [
    "# pokemon[-1]  doesnt work with Pandas Series\n",
    "pokemon[-15:-11] # when used as range, -ve indexes work in Pandas series"
   ]
  },
  {
   "cell_type": "markdown",
   "id": "d038b779",
   "metadata": {},
   "source": [
    "### Extract Series Value by Index Label"
   ]
  },
  {
   "cell_type": "code",
   "execution_count": 67,
   "id": "96eca6a4",
   "metadata": {},
   "outputs": [
    {
     "data": {
      "text/plain": [
       "Pokemon\n",
       "Bulbasaur     Grass\n",
       "Ivysaur       Grass\n",
       "Venusaur      Grass\n",
       "Charmander     Fire\n",
       "Charmeleon     Fire\n",
       "Name: Type, dtype: object"
      ]
     },
     "execution_count": 67,
     "metadata": {},
     "output_type": "execute_result"
    }
   ],
   "source": [
    "pokemon = pd.read_csv('pokemon.csv', index_col = 'Pokemon').squeeze('columns')\n",
    "pokemon.head()"
   ]
  },
  {
   "cell_type": "code",
   "execution_count": 68,
   "id": "febba084",
   "metadata": {},
   "outputs": [
    {
     "data": {
      "text/plain": [
       "Pokemon\n",
       "Bulbasaur     Grass\n",
       "Venusaur      Grass\n",
       "Charmander     Fire\n",
       "Name: Type, dtype: object"
      ]
     },
     "execution_count": 68,
     "metadata": {},
     "output_type": "execute_result"
    }
   ],
   "source": [
    "pokemon[[0,2,3]] # extracting by numerical index position still works even with label"
   ]
  },
  {
   "cell_type": "code",
   "execution_count": 69,
   "id": "d9b12649",
   "metadata": {},
   "outputs": [
    {
     "data": {
      "text/plain": [
       "Pokemon\n",
       "Mewtwo       Psychic\n",
       "Sceptile       Grass\n",
       "Blastoise      Water\n",
       "Name: Type, dtype: object"
      ]
     },
     "execution_count": 69,
     "metadata": {},
     "output_type": "execute_result"
    }
   ],
   "source": [
    "pokemon['Charizard']\n",
    "pokemon['Digimon'] # causes error since Digimon label does not exist\n",
    "pokemon[['Mewtwo', 'Sceptile', 'Blastoise']] # extracting by index label"
   ]
  },
  {
   "cell_type": "markdown",
   "id": "180a70ab",
   "metadata": {},
   "source": [
    "### The get Method on a Series"
   ]
  },
  {
   "cell_type": "code",
   "execution_count": 3,
   "id": "d32c98f8",
   "metadata": {},
   "outputs": [
    {
     "data": {
      "text/plain": [
       "Pokemon\n",
       "Bulbasaur     Grass\n",
       "Ivysaur       Grass\n",
       "Venusaur      Grass\n",
       "Charmander     Fire\n",
       "Charmeleon     Fire\n",
       "Name: Type, dtype: object"
      ]
     },
     "execution_count": 3,
     "metadata": {},
     "output_type": "execute_result"
    }
   ],
   "source": [
    "pokemon = pd.read_csv('pokemon.csv', index_col = 'Pokemon').squeeze('columns')\n",
    "pokemon.head()"
   ]
  },
  {
   "cell_type": "markdown",
   "id": "b8527ad8",
   "metadata": {},
   "source": [
    "get() extracts values from a Series. Has a fallback case in case the index/label doesnt exist in the Series"
   ]
  },
  {
   "cell_type": "code",
   "execution_count": 5,
   "id": "95e4275a",
   "metadata": {},
   "outputs": [
    {
     "data": {
      "text/plain": [
       "Pokemon\n",
       "Mewtwo      Psychic\n",
       "Pikachu    Electric\n",
       "Name: Type, dtype: object"
      ]
     },
     "execution_count": 5,
     "metadata": {},
     "output_type": "execute_result"
    }
   ],
   "source": [
    "pokemon.get(0)\n",
    "pokemon.get('Mewtwo')\n",
    "pokemon.get(['Mewtwo', 'Pikachu'])"
   ]
  },
  {
   "cell_type": "code",
   "execution_count": 7,
   "id": "9c5e9d58",
   "metadata": {},
   "outputs": [
    {
     "data": {
      "text/plain": [
       "'Nonexistent'"
      ]
     },
     "execution_count": 7,
     "metadata": {},
     "output_type": "execute_result"
    }
   ],
   "source": [
    "pokemon.get(['Digimon', 'Mewtwo'], 'Nonexistent') # has fallback, default fallback is None\n",
    "pokemon.get([100, 200, 10000], 'Nonexistent')"
   ]
  },
  {
   "cell_type": "markdown",
   "id": "2e39a55f",
   "metadata": {},
   "source": [
    "### Overwrite a Series Value"
   ]
  },
  {
   "cell_type": "code",
   "execution_count": 3,
   "id": "3ed87d7c",
   "metadata": {},
   "outputs": [
    {
     "data": {
      "text/plain": [
       "0     Bulbasaur\n",
       "1       Ivysaur\n",
       "2      Venusaur\n",
       "3    Charmander\n",
       "4    Charmeleon\n",
       "Name: Pokemon, dtype: object"
      ]
     },
     "execution_count": 3,
     "metadata": {},
     "output_type": "execute_result"
    }
   ],
   "source": [
    "pokemon = pd.read_csv('Pokemon.csv', usecols = ['Pokemon']).squeeze('columns')\n",
    "pokemon.head()"
   ]
  },
  {
   "cell_type": "code",
   "execution_count": 5,
   "id": "af93b028",
   "metadata": {},
   "outputs": [
    {
     "data": {
      "text/plain": [
       "'Bulbi'"
      ]
     },
     "execution_count": 5,
     "metadata": {},
     "output_type": "execute_result"
    }
   ],
   "source": [
    "pokemon[0] = \"Bulbi\" # overwrites the value at index 0 position\n",
    "pokemon[0]"
   ]
  },
  {
   "cell_type": "code",
   "execution_count": 7,
   "id": "dcadf809",
   "metadata": {},
   "outputs": [
    {
     "data": {
      "text/plain": [
       "0            Bulbi\n",
       "1          Ivysaur\n",
       "2         Venusaur\n",
       "3       Charmander\n",
       "4       Charmeleon\n",
       "           ...    \n",
       "717        Zygarde\n",
       "718        Diancie\n",
       "719          Hoopa\n",
       "720      Volcanion\n",
       "1500         Sunny\n",
       "Name: Pokemon, Length: 722, dtype: object"
      ]
     },
     "execution_count": 7,
     "metadata": {},
     "output_type": "execute_result"
    }
   ],
   "source": [
    "pokemon[1500] = \"Sunny\" # creates a new entry at index 1500, doesnt fill in the gaps\n",
    "pokemon"
   ]
  },
  {
   "cell_type": "code",
   "execution_count": 9,
   "id": "7f1cd641",
   "metadata": {},
   "outputs": [
    {
     "data": {
      "text/plain": [
       "0         Bulbi\n",
       "1        Flamon\n",
       "2         Iceon\n",
       "3    Charmander\n",
       "4       Wateron\n",
       "Name: Pokemon, dtype: object"
      ]
     },
     "execution_count": 9,
     "metadata": {},
     "output_type": "execute_result"
    }
   ],
   "source": [
    "pokemon[[1,2,4]] = ['Flamon', 'Iceon', 'Wateron'] # replaces values at the 1,2,4 index position\n",
    "pokemon.head()"
   ]
  },
  {
   "cell_type": "code",
   "execution_count": 10,
   "id": "1c44ed84",
   "metadata": {},
   "outputs": [
    {
     "data": {
      "text/plain": [
       "Pokemon\n",
       "Bulbasaur     Grass\n",
       "Ivysaur       Grass\n",
       "Venusaur      Grass\n",
       "Charmander     Fire\n",
       "Charmeleon     Fire\n",
       "Name: Type, dtype: object"
      ]
     },
     "execution_count": 10,
     "metadata": {},
     "output_type": "execute_result"
    }
   ],
   "source": [
    "pokemon = pd.read_csv('pokemon.csv', index_col = 'Pokemon').squeeze('columns')\n",
    "pokemon.head()"
   ]
  },
  {
   "cell_type": "code",
   "execution_count": 11,
   "id": "d6b4eae1",
   "metadata": {},
   "outputs": [
    {
     "data": {
      "text/plain": [
       "Pokemon\n",
       "Bulbasaur     Awwesomeon\n",
       "Ivysaur            Grass\n",
       "Venusaur           Grass\n",
       "Charmander          Fire\n",
       "Charmeleon          Fire\n",
       "Name: Type, dtype: object"
      ]
     },
     "execution_count": 11,
     "metadata": {},
     "output_type": "execute_result"
    }
   ],
   "source": [
    "pokemon['Bulbasaur'] = 'Awwesomeon' # overwrite value based on index label\n",
    "pokemon.head()"
   ]
  },
  {
   "cell_type": "code",
   "execution_count": 14,
   "id": "1a181335",
   "metadata": {},
   "outputs": [
    {
     "data": {
      "text/plain": [
       "Pokemon\n",
       "Bulbasaur     Awwesomeon\n",
       "Ivysaur          Grasson\n",
       "Venusaur           Grass\n",
       "Charmander          Fire\n",
       "Charmeleon          Fire\n",
       "Name: Type, dtype: object"
      ]
     },
     "execution_count": 14,
     "metadata": {},
     "output_type": "execute_result"
    }
   ],
   "source": [
    "pokemon[1] = 'Grasson' # this will also still work here\n",
    "pokemon.head()"
   ]
  },
  {
   "cell_type": "markdown",
   "id": "65a71dcc",
   "metadata": {},
   "source": [
    "### The copy Method"
   ]
  },
  {
   "cell_type": "code",
   "execution_count": 15,
   "id": "b9f173cb",
   "metadata": {},
   "outputs": [],
   "source": [
    "pokemon_df = pd.read_csv('pokemon.csv', usecols = ['Pokemon']) # Dataframe\n",
    "pokemon_series = pokemon_df.squeeze('columns') # Series"
   ]
  },
  {
   "cell_type": "code",
   "execution_count": 16,
   "id": "1e8d45cd",
   "metadata": {},
   "outputs": [
    {
     "data": {
      "text/plain": [
       "0    Whatever\n",
       "Name: Pokemon, dtype: object"
      ]
     },
     "execution_count": 16,
     "metadata": {},
     "output_type": "execute_result"
    }
   ],
   "source": [
    "pokemon_series[0] = 'Whatever' # updating value in Series\n",
    "pokemon_series.head(1)"
   ]
  },
  {
   "cell_type": "code",
   "execution_count": 17,
   "id": "14e9fb28",
   "metadata": {},
   "outputs": [
    {
     "data": {
      "text/html": [
       "<div>\n",
       "<style scoped>\n",
       "    .dataframe tbody tr th:only-of-type {\n",
       "        vertical-align: middle;\n",
       "    }\n",
       "\n",
       "    .dataframe tbody tr th {\n",
       "        vertical-align: top;\n",
       "    }\n",
       "\n",
       "    .dataframe thead th {\n",
       "        text-align: right;\n",
       "    }\n",
       "</style>\n",
       "<table border=\"1\" class=\"dataframe\">\n",
       "  <thead>\n",
       "    <tr style=\"text-align: right;\">\n",
       "      <th></th>\n",
       "      <th>Pokemon</th>\n",
       "    </tr>\n",
       "  </thead>\n",
       "  <tbody>\n",
       "    <tr>\n",
       "      <th>0</th>\n",
       "      <td>Whatever</td>\n",
       "    </tr>\n",
       "    <tr>\n",
       "      <th>1</th>\n",
       "      <td>Ivysaur</td>\n",
       "    </tr>\n",
       "    <tr>\n",
       "      <th>2</th>\n",
       "      <td>Venusaur</td>\n",
       "    </tr>\n",
       "    <tr>\n",
       "      <th>3</th>\n",
       "      <td>Charmander</td>\n",
       "    </tr>\n",
       "    <tr>\n",
       "      <th>4</th>\n",
       "      <td>Charmeleon</td>\n",
       "    </tr>\n",
       "    <tr>\n",
       "      <th>...</th>\n",
       "      <td>...</td>\n",
       "    </tr>\n",
       "    <tr>\n",
       "      <th>716</th>\n",
       "      <td>Yveltal</td>\n",
       "    </tr>\n",
       "    <tr>\n",
       "      <th>717</th>\n",
       "      <td>Zygarde</td>\n",
       "    </tr>\n",
       "    <tr>\n",
       "      <th>718</th>\n",
       "      <td>Diancie</td>\n",
       "    </tr>\n",
       "    <tr>\n",
       "      <th>719</th>\n",
       "      <td>Hoopa</td>\n",
       "    </tr>\n",
       "    <tr>\n",
       "      <th>720</th>\n",
       "      <td>Volcanion</td>\n",
       "    </tr>\n",
       "  </tbody>\n",
       "</table>\n",
       "<p>721 rows × 1 columns</p>\n",
       "</div>"
      ],
      "text/plain": [
       "        Pokemon\n",
       "0      Whatever\n",
       "1       Ivysaur\n",
       "2      Venusaur\n",
       "3    Charmander\n",
       "4    Charmeleon\n",
       "..          ...\n",
       "716     Yveltal\n",
       "717     Zygarde\n",
       "718     Diancie\n",
       "719       Hoopa\n",
       "720   Volcanion\n",
       "\n",
       "[721 rows x 1 columns]"
      ]
     },
     "execution_count": 17,
     "metadata": {},
     "output_type": "execute_result"
    }
   ],
   "source": [
    "pokemon_df # value gets updated in Df as well even though we only updated Series"
   ]
  },
  {
   "cell_type": "markdown",
   "id": "84631047",
   "metadata": {},
   "source": [
    "Series is like a view of the larger Dataframe (Not a seperate copy). Thats why Dataframe value gets updated as well and is not treated seperatly. \n",
    "\n",
    "Analogy : Paint the door(series) of the house(Df) red. So, the color of the door of the dataframe also changes because it is a part(view) of the house"
   ]
  },
  {
   "cell_type": "code",
   "execution_count": 18,
   "id": "e8243843",
   "metadata": {},
   "outputs": [],
   "source": [
    "pokemon_df = pd.read_csv('pokemon.csv', usecols = ['Pokemon']) # Dataframe\n",
    "pokemon_series = pokemon_df.squeeze('columns').copy() \n",
    "\n",
    "# Series here works as a copy completely independent copy of original data source cuz of copy method and not as a view.\n",
    "\n",
    "# Series here is a distinct entity, changes made to it will not effect original datasource(df)"
   ]
  },
  {
   "cell_type": "code",
   "execution_count": 19,
   "id": "59c76675",
   "metadata": {},
   "outputs": [
    {
     "data": {
      "text/plain": [
       "0    Whatever\n",
       "Name: Pokemon, dtype: object"
      ]
     },
     "execution_count": 19,
     "metadata": {},
     "output_type": "execute_result"
    }
   ],
   "source": [
    "pokemon_series[0] = 'Whatever' # updating value in Series\n",
    "pokemon_series.head(1)"
   ]
  },
  {
   "cell_type": "code",
   "execution_count": 20,
   "id": "17c3bb52",
   "metadata": {},
   "outputs": [
    {
     "data": {
      "text/html": [
       "<div>\n",
       "<style scoped>\n",
       "    .dataframe tbody tr th:only-of-type {\n",
       "        vertical-align: middle;\n",
       "    }\n",
       "\n",
       "    .dataframe tbody tr th {\n",
       "        vertical-align: top;\n",
       "    }\n",
       "\n",
       "    .dataframe thead th {\n",
       "        text-align: right;\n",
       "    }\n",
       "</style>\n",
       "<table border=\"1\" class=\"dataframe\">\n",
       "  <thead>\n",
       "    <tr style=\"text-align: right;\">\n",
       "      <th></th>\n",
       "      <th>Pokemon</th>\n",
       "    </tr>\n",
       "  </thead>\n",
       "  <tbody>\n",
       "    <tr>\n",
       "      <th>0</th>\n",
       "      <td>Bulbasaur</td>\n",
       "    </tr>\n",
       "    <tr>\n",
       "      <th>1</th>\n",
       "      <td>Ivysaur</td>\n",
       "    </tr>\n",
       "    <tr>\n",
       "      <th>2</th>\n",
       "      <td>Venusaur</td>\n",
       "    </tr>\n",
       "    <tr>\n",
       "      <th>3</th>\n",
       "      <td>Charmander</td>\n",
       "    </tr>\n",
       "    <tr>\n",
       "      <th>4</th>\n",
       "      <td>Charmeleon</td>\n",
       "    </tr>\n",
       "    <tr>\n",
       "      <th>...</th>\n",
       "      <td>...</td>\n",
       "    </tr>\n",
       "    <tr>\n",
       "      <th>716</th>\n",
       "      <td>Yveltal</td>\n",
       "    </tr>\n",
       "    <tr>\n",
       "      <th>717</th>\n",
       "      <td>Zygarde</td>\n",
       "    </tr>\n",
       "    <tr>\n",
       "      <th>718</th>\n",
       "      <td>Diancie</td>\n",
       "    </tr>\n",
       "    <tr>\n",
       "      <th>719</th>\n",
       "      <td>Hoopa</td>\n",
       "    </tr>\n",
       "    <tr>\n",
       "      <th>720</th>\n",
       "      <td>Volcanion</td>\n",
       "    </tr>\n",
       "  </tbody>\n",
       "</table>\n",
       "<p>721 rows × 1 columns</p>\n",
       "</div>"
      ],
      "text/plain": [
       "        Pokemon\n",
       "0     Bulbasaur\n",
       "1       Ivysaur\n",
       "2      Venusaur\n",
       "3    Charmander\n",
       "4    Charmeleon\n",
       "..          ...\n",
       "716     Yveltal\n",
       "717     Zygarde\n",
       "718     Diancie\n",
       "719       Hoopa\n",
       "720   Volcanion\n",
       "\n",
       "[721 rows x 1 columns]"
      ]
     },
     "execution_count": 20,
     "metadata": {},
     "output_type": "execute_result"
    }
   ],
   "source": [
    "pokemon_df # Value does not get updated as series, pokemon_series, is created as a copy."
   ]
  },
  {
   "cell_type": "markdown",
   "id": "df9cd078",
   "metadata": {},
   "source": [
    "### The inplace Parameter"
   ]
  },
  {
   "cell_type": "code",
   "execution_count": 2,
   "id": "93cd19db",
   "metadata": {},
   "outputs": [
    {
     "data": {
      "text/plain": [
       "0        50.12\n",
       "1        54.10\n",
       "2        54.65\n",
       "3        52.38\n",
       "4        52.95\n",
       "         ...  \n",
       "3007    772.88\n",
       "3008    771.07\n",
       "3009    773.18\n",
       "3010    771.61\n",
       "3011    782.22\n",
       "Name: Stock Price, Length: 3012, dtype: float64"
      ]
     },
     "execution_count": 2,
     "metadata": {},
     "output_type": "execute_result"
    }
   ],
   "source": [
    "google = (\n",
    "    pd.read_csv('google_stock_price.csv', usecols = ['Stock Price'])\n",
    "    .squeeze('columns')\n",
    "    .copy()\n",
    ")\n",
    "google\n",
    "\n",
    "# series is decoupled from df\n",
    "# pre req for inplace parameter for mutations -> object(series) cannot be a view, has to be a copy"
   ]
  },
  {
   "cell_type": "code",
   "execution_count": 29,
   "id": "5e8c5bcf",
   "metadata": {},
   "outputs": [
    {
     "data": {
      "text/plain": [
       "11    49.95\n",
       "9     50.07\n",
       "0     50.12\n",
       "10    50.70\n",
       "12    50.74\n",
       "Name: Stock Price, dtype: float64"
      ]
     },
     "execution_count": 29,
     "metadata": {},
     "output_type": "execute_result"
    }
   ],
   "source": [
    "google = google.sort_values() # sorting the series and reassging to the variabl, to change the original\n",
    "google.head()"
   ]
  },
  {
   "cell_type": "code",
   "execution_count": 31,
   "id": "e9913936",
   "metadata": {},
   "outputs": [
    {
     "data": {
      "text/plain": [
       "11    49.95\n",
       "9     50.07\n",
       "0     50.12\n",
       "10    50.70\n",
       "12    50.74\n",
       "Name: Stock Price, dtype: float64"
      ]
     },
     "execution_count": 31,
     "metadata": {},
     "output_type": "execute_result"
    }
   ],
   "source": [
    "# Instead of that, we can use inplace parameter\n",
    "\n",
    "google.sort_values(inplace = True) # this also changes original -> inplace, might be deprecated\n",
    "google.head()"
   ]
  },
  {
   "cell_type": "markdown",
   "id": "029b21c4",
   "metadata": {},
   "source": [
    "### Math Methods on Series Objects"
   ]
  },
  {
   "cell_type": "code",
   "execution_count": 6,
   "id": "5a4af6ca",
   "metadata": {},
   "outputs": [
    {
     "data": {
      "text/plain": [
       "count    3012.000000\n",
       "mean      334.310093\n",
       "std       173.187205\n",
       "min        49.950000\n",
       "25%       218.045000\n",
       "50%       283.315000\n",
       "75%       443.000000\n",
       "max       782.220000\n",
       "Name: Stock Price, dtype: float64"
      ]
     },
     "execution_count": 6,
     "metadata": {},
     "output_type": "execute_result"
    }
   ],
   "source": [
    "google.count() # counts non-null data -> valid rows\n",
    "google.sum()\n",
    "google.mean()\n",
    "google.product()\n",
    "google.std() #standard dev\n",
    "google.min()\n",
    "google.max()\n",
    "google.median()\n",
    "google.mode()\n",
    "google.describe() # gives general stats as output in a series"
   ]
  },
  {
   "cell_type": "markdown",
   "id": "e1891021",
   "metadata": {},
   "source": [
    "### Broadcasting"
   ]
  },
  {
   "cell_type": "markdown",
   "id": "e7329569",
   "metadata": {},
   "source": [
    "How to perform math operation throughout every element of a series -> Broadcasting"
   ]
  },
  {
   "cell_type": "code",
   "execution_count": 8,
   "id": "b0cf4c7f",
   "metadata": {},
   "outputs": [
    {
     "data": {
      "text/plain": [
       "0        100.24\n",
       "1        108.20\n",
       "2        109.30\n",
       "3        104.76\n",
       "4        105.90\n",
       "         ...   \n",
       "3007    1545.76\n",
       "3008    1542.14\n",
       "3009    1546.36\n",
       "3010    1543.22\n",
       "3011    1564.44\n",
       "Name: Stock Price, Length: 3012, dtype: float64"
      ]
     },
     "execution_count": 8,
     "metadata": {},
     "output_type": "execute_result"
    }
   ],
   "source": [
    "google + 10  # adds 10 to every element of the series, google.\n",
    "google -30\n",
    "google * 2"
   ]
  },
  {
   "cell_type": "markdown",
   "id": "6073e1fe",
   "metadata": {},
   "source": [
    "### The value_counts Method"
   ]
  },
  {
   "cell_type": "markdown",
   "id": "2143e9f6",
   "metadata": {},
   "source": [
    "Counts the number of times a value occurs in a series and returns it\n"
   ]
  },
  {
   "cell_type": "code",
   "execution_count": 10,
   "id": "f541261a",
   "metadata": {},
   "outputs": [
    {
     "data": {
      "text/plain": [
       "Pokemon\n",
       "Bulbasaur     Grass\n",
       "Ivysaur       Grass\n",
       "Venusaur      Grass\n",
       "Charmander     Fire\n",
       "Charmeleon     Fire\n",
       "Name: Type, dtype: object"
      ]
     },
     "execution_count": 10,
     "metadata": {},
     "output_type": "execute_result"
    }
   ],
   "source": [
    "pokemon = pd.read_csv('pokemon.csv', index_col = 'Pokemon').squeeze('columns')\n",
    "pokemon.head()"
   ]
  },
  {
   "cell_type": "code",
   "execution_count": 13,
   "id": "2c1928aa",
   "metadata": {},
   "outputs": [
    {
     "data": {
      "text/plain": [
       "Grass        66\n",
       "Fire         47\n",
       "Water       105\n",
       "Bug          63\n",
       "Normal       93\n",
       "Poison       28\n",
       "Electric     36\n",
       "Ground       30\n",
       "Fairy        17\n",
       "Fighting     25\n",
       "Psychic      47\n",
       "Rock         41\n",
       "Ghost        23\n",
       "Ice          23\n",
       "Dragon       24\n",
       "Dark         28\n",
       "Steel        22\n",
       "Flying        3\n",
       "Name: Type, dtype: int64"
      ]
     },
     "execution_count": 13,
     "metadata": {},
     "output_type": "execute_result"
    }
   ],
   "source": [
    "pokemon.value_counts()\n",
    "pokemon.value_counts(sort = False)\n",
    "pokemon.value_counts(ascending = True).head() # counts value occurences in series"
   ]
  },
  {
   "cell_type": "code",
   "execution_count": 15,
   "id": "40856be5",
   "metadata": {},
   "outputs": [
    {
     "data": {
      "text/plain": [
       "Water       14.563107\n",
       "Normal      12.898752\n",
       "Grass        9.153953\n",
       "Bug          8.737864\n",
       "Fire         6.518724\n",
       "Psychic      6.518724\n",
       "Rock         5.686546\n",
       "Electric     4.993065\n",
       "Ground       4.160888\n",
       "Poison       3.883495\n",
       "Dark         3.883495\n",
       "Fighting     3.467406\n",
       "Dragon       3.328710\n",
       "Ghost        3.190014\n",
       "Ice          3.190014\n",
       "Steel        3.051318\n",
       "Fairy        2.357836\n",
       "Flying       0.416089\n",
       "Name: Type, dtype: float64"
      ]
     },
     "execution_count": 15,
     "metadata": {},
     "output_type": "execute_result"
    }
   ],
   "source": [
    "pokemon.value_counts(normalize = True) * 100 # Displays occurences in the form of percentages"
   ]
  },
  {
   "cell_type": "markdown",
   "id": "d887f933",
   "metadata": {},
   "source": [
    "### The apply Method"
   ]
  },
  {
   "cell_type": "markdown",
   "id": "04c415a7",
   "metadata": {},
   "source": [
    "Applies a function to every value of a Series and returns a new Series"
   ]
  },
  {
   "cell_type": "code",
   "execution_count": 16,
   "id": "29883c4e",
   "metadata": {},
   "outputs": [
    {
     "data": {
      "text/plain": [
       "5"
      ]
     },
     "execution_count": 16,
     "metadata": {},
     "output_type": "execute_result"
    }
   ],
   "source": [
    "len('Grass')"
   ]
  },
  {
   "cell_type": "code",
   "execution_count": 17,
   "id": "df7497d5",
   "metadata": {},
   "outputs": [
    {
     "data": {
      "text/plain": [
       "Pokemon\n",
       "Bulbasaur     5\n",
       "Ivysaur       5\n",
       "Venusaur      5\n",
       "Charmander    4\n",
       "Charmeleon    4\n",
       "             ..\n",
       "Yveltal       4\n",
       "Zygarde       6\n",
       "Diancie       4\n",
       "Hoopa         7\n",
       "Volcanion     4\n",
       "Name: Type, Length: 721, dtype: int64"
      ]
     },
     "execution_count": 17,
     "metadata": {},
     "output_type": "execute_result"
    }
   ],
   "source": [
    "pokemon.apply(len) # applies len to all series values and returns a series."
   ]
  },
  {
   "cell_type": "code",
   "execution_count": 19,
   "id": "0958ef39",
   "metadata": {},
   "outputs": [],
   "source": [
    "# Applying a custom function to all series values\n",
    "\n",
    "def rank_pokemon(pokemon_type):\n",
    "    if pokemon_type in ['Grass', 'Water', 'Fire']:\n",
    "        return 'Classic'\n",
    "    elif pokemon_type == 'Normal':\n",
    "        return 'Boring'\n",
    "    else:\n",
    "        return 'TBD'"
   ]
  },
  {
   "cell_type": "code",
   "execution_count": 21,
   "id": "144c98dd",
   "metadata": {},
   "outputs": [
    {
     "data": {
      "text/plain": [
       "Pokemon\n",
       "Bulbasaur     Classic\n",
       "Ivysaur       Classic\n",
       "Venusaur      Classic\n",
       "Charmander    Classic\n",
       "Charmeleon    Classic\n",
       "               ...   \n",
       "Yveltal           TBD\n",
       "Zygarde           TBD\n",
       "Diancie           TBD\n",
       "Hoopa             TBD\n",
       "Volcanion     Classic\n",
       "Name: Type, Length: 721, dtype: object"
      ]
     },
     "execution_count": 21,
     "metadata": {},
     "output_type": "execute_result"
    }
   ],
   "source": [
    "pokemon.apply(rank_pokemon) # applies custom func to all series values"
   ]
  },
  {
   "cell_type": "markdown",
   "id": "5cfa8f0f",
   "metadata": {},
   "source": [
    "### The map Method"
   ]
  },
  {
   "cell_type": "code",
   "execution_count": 23,
   "id": "a8b30bc2",
   "metadata": {},
   "outputs": [
    {
     "data": {
      "text/plain": [
       "Pokemon\n",
       "Bulbasaur     Grass\n",
       "Ivysaur       Grass\n",
       "Venusaur      Grass\n",
       "Charmander     Fire\n",
       "Charmeleon     Fire\n",
       "Name: Type, dtype: object"
      ]
     },
     "execution_count": 23,
     "metadata": {},
     "output_type": "execute_result"
    }
   ],
   "source": [
    "pokemon = pd.read_csv('pokemon.csv', index_col = 'Pokemon').squeeze('columns')\n",
    "pokemon.head()"
   ]
  },
  {
   "cell_type": "markdown",
   "id": "12da2546",
   "metadata": {},
   "source": [
    "Apply an associative obj(dict, another series) to all series values. "
   ]
  },
  {
   "cell_type": "code",
   "execution_count": 24,
   "id": "1540cb79",
   "metadata": {},
   "outputs": [
    {
     "data": {
      "text/plain": [
       "Pokemon\n",
       "Bulbasaur      Classic\n",
       "Ivysaur        Classic\n",
       "Venusaur       Classic\n",
       "Charmander    Classsic\n",
       "Charmeleon    Classsic\n",
       "                ...   \n",
       "Yveltal            NaN\n",
       "Zygarde            NaN\n",
       "Diancie            NaN\n",
       "Hoopa              NaN\n",
       "Volcanion     Classsic\n",
       "Name: Type, Length: 721, dtype: object"
      ]
     },
     "execution_count": 24,
     "metadata": {},
     "output_type": "execute_result"
    }
   ],
   "source": [
    "mappings  = {\n",
    "    'Grass' : 'Classic',\n",
    "    'Fire' : 'Classsic',\n",
    "    'Water' : 'Classic',\n",
    "    'Normal' : 'Boring'\n",
    "}\n",
    "\n",
    "pokemon.map(mappings) # NAN is because those values dont have a pair as listed in the above map"
   ]
  },
  {
   "cell_type": "code",
   "execution_count": 25,
   "id": "5e8851be",
   "metadata": {},
   "outputs": [
    {
     "data": {
      "text/plain": [
       "Pokemon\n",
       "Bulbasaur      Classic\n",
       "Ivysaur        Classic\n",
       "Venusaur       Classic\n",
       "Charmander    Classsic\n",
       "Charmeleon    Classsic\n",
       "                ...   \n",
       "Yveltal            NaN\n",
       "Zygarde            NaN\n",
       "Diancie            NaN\n",
       "Hoopa              NaN\n",
       "Volcanion     Classsic\n",
       "Name: Type, Length: 721, dtype: object"
      ]
     },
     "execution_count": 25,
     "metadata": {},
     "output_type": "execute_result"
    }
   ],
   "source": [
    "# Using a series as a param to map()\n",
    "mapping_series = pd.Series(mappings)\n",
    "pokemon.map(mapping_series)"
   ]
  }
 ],
 "metadata": {
  "kernelspec": {
   "display_name": "Python 3 (ipykernel)",
   "language": "python",
   "name": "python3"
  },
  "language_info": {
   "codemirror_mode": {
    "name": "ipython",
    "version": 3
   },
   "file_extension": ".py",
   "mimetype": "text/x-python",
   "name": "python",
   "nbconvert_exporter": "python",
   "pygments_lexer": "ipython3",
   "version": "3.10.9"
  }
 },
 "nbformat": 4,
 "nbformat_minor": 5
}
