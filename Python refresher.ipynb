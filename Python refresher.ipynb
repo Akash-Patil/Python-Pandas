{
 "cells": [
  {
   "cell_type": "markdown",
   "id": "e6e6577c",
   "metadata": {},
   "source": [
    "### Comments"
   ]
  },
  {
   "cell_type": "code",
   "execution_count": 2,
   "id": "abbd3e52",
   "metadata": {},
   "outputs": [],
   "source": [
    "# comment test"
   ]
  },
  {
   "cell_type": "markdown",
   "id": "4677be76",
   "metadata": {},
   "source": [
    "### Data types"
   ]
  },
  {
   "cell_type": "code",
   "execution_count": 7,
   "id": "6a20aeb1",
   "metadata": {},
   "outputs": [
    {
     "data": {
      "text/plain": [
       "3.14"
      ]
     },
     "execution_count": 7,
     "metadata": {},
     "output_type": "execute_result"
    }
   ],
   "source": [
    "3 # int \n",
    "3.14 # float "
   ]
  },
  {
   "cell_type": "code",
   "execution_count": 4,
   "id": "8cbb0767",
   "metadata": {},
   "outputs": [],
   "source": [
    "None"
   ]
  },
  {
   "cell_type": "code",
   "execution_count": 5,
   "id": "58d1c72a",
   "metadata": {},
   "outputs": [
    {
     "data": {
      "text/plain": [
       "True"
      ]
     },
     "execution_count": 5,
     "metadata": {},
     "output_type": "execute_result"
    }
   ],
   "source": [
    "True # Boolean"
   ]
  },
  {
   "cell_type": "code",
   "execution_count": 6,
   "id": "4511a105",
   "metadata": {},
   "outputs": [
    {
     "data": {
      "text/plain": [
       "'Hello World'"
      ]
     },
     "execution_count": 6,
     "metadata": {},
     "output_type": "execute_result"
    }
   ],
   "source": [
    "'Hello World' # Strings"
   ]
  },
  {
   "cell_type": "markdown",
   "id": "7bca6bbf",
   "metadata": {},
   "source": [
    "### Operators"
   ]
  },
  {
   "cell_type": "code",
   "execution_count": 8,
   "id": "ffe3ea11",
   "metadata": {},
   "outputs": [
    {
     "data": {
      "text/plain": [
       "7"
      ]
     },
     "execution_count": 8,
     "metadata": {},
     "output_type": "execute_result"
    }
   ],
   "source": [
    "5 + 2"
   ]
  },
  {
   "cell_type": "code",
   "execution_count": 10,
   "id": "76bc43db",
   "metadata": {},
   "outputs": [
    {
     "data": {
      "text/plain": [
       "'hello world'"
      ]
     },
     "execution_count": 10,
     "metadata": {},
     "output_type": "execute_result"
    }
   ],
   "source": [
    "'hello' + ' world' #concatenation"
   ]
  },
  {
   "cell_type": "code",
   "execution_count": 11,
   "id": "623a9f34",
   "metadata": {},
   "outputs": [
    {
     "data": {
      "text/plain": [
       "'MahiMahi'"
      ]
     },
     "execution_count": 11,
     "metadata": {},
     "output_type": "execute_result"
    }
   ],
   "source": [
    "'Mahi' * 2 "
   ]
  },
  {
   "cell_type": "code",
   "execution_count": 12,
   "id": "7bcbfcb4",
   "metadata": {},
   "outputs": [
    {
     "data": {
      "text/plain": [
       "4.0"
      ]
     },
     "execution_count": 12,
     "metadata": {},
     "output_type": "execute_result"
    }
   ],
   "source": [
    "16/4 #Always get a float when divide"
   ]
  },
  {
   "cell_type": "code",
   "execution_count": 13,
   "id": "01bc5cc9",
   "metadata": {},
   "outputs": [
    {
     "data": {
      "text/plain": [
       "3.75"
      ]
     },
     "execution_count": 13,
     "metadata": {},
     "output_type": "execute_result"
    }
   ],
   "source": [
    "15/4  "
   ]
  },
  {
   "cell_type": "code",
   "execution_count": 14,
   "id": "28797a29",
   "metadata": {},
   "outputs": [
    {
     "data": {
      "text/plain": [
       "3"
      ]
     },
     "execution_count": 14,
     "metadata": {},
     "output_type": "execute_result"
    }
   ],
   "source": [
    "10 // 3 # divides and returns int"
   ]
  },
  {
   "cell_type": "code",
   "execution_count": 15,
   "id": "405bc632",
   "metadata": {},
   "outputs": [
    {
     "data": {
      "text/plain": [
       "2"
      ]
     },
     "execution_count": 15,
     "metadata": {},
     "output_type": "execute_result"
    }
   ],
   "source": [
    "14 % 3"
   ]
  },
  {
   "cell_type": "code",
   "execution_count": 17,
   "id": "9f40fc74",
   "metadata": {},
   "outputs": [
    {
     "data": {
      "text/plain": [
       "True"
      ]
     },
     "execution_count": 17,
     "metadata": {},
     "output_type": "execute_result"
    }
   ],
   "source": [
    "1 == 1    # Eqaulity op\n",
    "5 == 5.0"
   ]
  },
  {
   "cell_type": "code",
   "execution_count": 18,
   "id": "73da3eb4",
   "metadata": {},
   "outputs": [
    {
     "data": {
      "text/plain": [
       "False"
      ]
     },
     "execution_count": 18,
     "metadata": {},
     "output_type": "execute_result"
    }
   ],
   "source": [
    "'Hello' == 'hello'"
   ]
  },
  {
   "cell_type": "code",
   "execution_count": 19,
   "id": "b2037e77",
   "metadata": {},
   "outputs": [
    {
     "data": {
      "text/plain": [
       "False"
      ]
     },
     "execution_count": 19,
     "metadata": {},
     "output_type": "execute_result"
    }
   ],
   "source": [
    "5 != 5.0"
   ]
  },
  {
   "cell_type": "markdown",
   "id": "08051e81",
   "metadata": {},
   "source": [
    "### Variables"
   ]
  },
  {
   "cell_type": "code",
   "execution_count": 22,
   "id": "b6e0a293",
   "metadata": {},
   "outputs": [
    {
     "data": {
      "text/plain": [
       "29"
      ]
     },
     "execution_count": 22,
     "metadata": {},
     "output_type": "execute_result"
    }
   ],
   "source": [
    "age = 24\n",
    "age + 5"
   ]
  },
  {
   "cell_type": "code",
   "execution_count": 24,
   "id": "2138d78f",
   "metadata": {},
   "outputs": [
    {
     "data": {
      "text/plain": [
       "44"
      ]
     },
     "execution_count": 24,
     "metadata": {},
     "output_type": "execute_result"
    }
   ],
   "source": [
    "age = age + 10\n",
    "age"
   ]
  },
  {
   "cell_type": "markdown",
   "id": "e3c21ff5",
   "metadata": {},
   "source": [
    "### Built in Functions"
   ]
  },
  {
   "cell_type": "code",
   "execution_count": 25,
   "id": "abf4560f",
   "metadata": {},
   "outputs": [
    {
     "data": {
      "text/plain": [
       "11"
      ]
     },
     "execution_count": 25,
     "metadata": {},
     "output_type": "execute_result"
    }
   ],
   "source": [
    "len('Hello world')"
   ]
  },
  {
   "cell_type": "code",
   "execution_count": 29,
   "id": "4628ec82",
   "metadata": {},
   "outputs": [
    {
     "data": {
      "text/plain": [
       "3.0"
      ]
     },
     "execution_count": 29,
     "metadata": {},
     "output_type": "execute_result"
    }
   ],
   "source": [
    "str(3.14)       # Typecasting\n",
    "int(3.14)\n",
    "float('3')"
   ]
  },
  {
   "cell_type": "code",
   "execution_count": 32,
   "id": "67d6f6cf",
   "metadata": {},
   "outputs": [
    {
     "data": {
      "text/plain": [
       "bool"
      ]
     },
     "execution_count": 32,
     "metadata": {},
     "output_type": "execute_result"
    }
   ],
   "source": [
    "type(3.14)\n",
    "type(True)"
   ]
  },
  {
   "cell_type": "code",
   "execution_count": 33,
   "id": "c110b6d9",
   "metadata": {},
   "outputs": [
    {
     "data": {
      "text/plain": [
       "True"
      ]
     },
     "execution_count": 33,
     "metadata": {},
     "output_type": "execute_result"
    }
   ],
   "source": [
    "type(10) == type(15)"
   ]
  },
  {
   "cell_type": "markdown",
   "id": "0cf5aaf5",
   "metadata": {},
   "source": [
    "### Custom Functions"
   ]
  },
  {
   "cell_type": "code",
   "execution_count": 35,
   "id": "a35e3113",
   "metadata": {},
   "outputs": [],
   "source": [
    "# convert celsius to farhenhiet\n",
    "\n",
    "def convert_c_f(temp = 15): #Default value\n",
    "    prod = temp * 1.8\n",
    "    return prod + 32\n"
   ]
  },
  {
   "cell_type": "code",
   "execution_count": 36,
   "id": "cbf5bd65",
   "metadata": {},
   "outputs": [
    {
     "data": {
      "text/plain": [
       "68.0"
      ]
     },
     "execution_count": 36,
     "metadata": {},
     "output_type": "execute_result"
    }
   ],
   "source": [
    "convert_c_f(20)"
   ]
  },
  {
   "cell_type": "code",
   "execution_count": 37,
   "id": "c5ab3c28",
   "metadata": {},
   "outputs": [
    {
     "data": {
      "text/plain": [
       "59.0"
      ]
     },
     "execution_count": 37,
     "metadata": {},
     "output_type": "execute_result"
    }
   ],
   "source": [
    "convert_c_f() #uses default value"
   ]
  },
  {
   "cell_type": "code",
   "execution_count": 38,
   "id": "c9f7b2d8",
   "metadata": {},
   "outputs": [
    {
     "data": {
      "text/plain": [
       "73.4"
      ]
     },
     "execution_count": 38,
     "metadata": {},
     "output_type": "execute_result"
    }
   ],
   "source": [
    "convert_c_f(temp = 23) # helpful with multiple arguments"
   ]
  },
  {
   "cell_type": "markdown",
   "id": "4c94951b",
   "metadata": {},
   "source": [
    "### String methods"
   ]
  },
  {
   "cell_type": "code",
   "execution_count": 46,
   "id": "24e200e2",
   "metadata": {},
   "outputs": [],
   "source": [
    "profession = 'Developer'"
   ]
  },
  {
   "cell_type": "code",
   "execution_count": 47,
   "id": "fc2be662",
   "metadata": {},
   "outputs": [
    {
     "data": {
      "text/plain": [
       "'developer'"
      ]
     },
     "execution_count": 47,
     "metadata": {},
     "output_type": "execute_result"
    }
   ],
   "source": [
    "profession.upper()\n",
    "profession.lower()"
   ]
  },
  {
   "cell_type": "code",
   "execution_count": 48,
   "id": "7bcb0bd1",
   "metadata": {},
   "outputs": [
    {
     "data": {
      "text/plain": [
       "'dEVELOPER'"
      ]
     },
     "execution_count": 48,
     "metadata": {},
     "output_type": "execute_result"
    }
   ],
   "source": [
    "profession.swapcase()"
   ]
  },
  {
   "cell_type": "code",
   "execution_count": 49,
   "id": "0347fce7",
   "metadata": {},
   "outputs": [
    {
     "data": {
      "text/plain": [
       "'Developer'"
      ]
     },
     "execution_count": 49,
     "metadata": {},
     "output_type": "execute_result"
    }
   ],
   "source": [
    "profession # string is immutable"
   ]
  },
  {
   "cell_type": "code",
   "execution_count": 51,
   "id": "0779ce1d",
   "metadata": {},
   "outputs": [
    {
     "data": {
      "text/plain": [
       "'One Upon A Time'"
      ]
     },
     "execution_count": 51,
     "metadata": {},
     "output_type": "execute_result"
    }
   ],
   "source": [
    "'one upon a time'.title()"
   ]
  },
  {
   "cell_type": "code",
   "execution_count": 53,
   "id": "5172d541",
   "metadata": {},
   "outputs": [
    {
     "data": {
      "text/plain": [
       "'Once upon a time'"
      ]
     },
     "execution_count": 53,
     "metadata": {},
     "output_type": "execute_result"
    }
   ],
   "source": [
    "'once upon a time'.capitalize()"
   ]
  },
  {
   "cell_type": "code",
   "execution_count": 54,
   "id": "b0884643",
   "metadata": {},
   "outputs": [],
   "source": [
    "profession = \"       Developer      \" #white spaces"
   ]
  },
  {
   "cell_type": "code",
   "execution_count": 55,
   "id": "9267d20b",
   "metadata": {},
   "outputs": [
    {
     "data": {
      "text/plain": [
       "'Developer      '"
      ]
     },
     "execution_count": 55,
     "metadata": {},
     "output_type": "execute_result"
    }
   ],
   "source": [
    "profession.lstrip()"
   ]
  },
  {
   "cell_type": "code",
   "execution_count": 56,
   "id": "f3a7e607",
   "metadata": {},
   "outputs": [
    {
     "data": {
      "text/plain": [
       "'       Developer'"
      ]
     },
     "execution_count": 56,
     "metadata": {},
     "output_type": "execute_result"
    }
   ],
   "source": [
    "profession.rstrip()"
   ]
  },
  {
   "cell_type": "code",
   "execution_count": 57,
   "id": "4d09dc1b",
   "metadata": {},
   "outputs": [
    {
     "data": {
      "text/plain": [
       "'Developer'"
      ]
     },
     "execution_count": 57,
     "metadata": {},
     "output_type": "execute_result"
    }
   ],
   "source": [
    "profession.strip() #remove all white spcaces"
   ]
  },
  {
   "cell_type": "code",
   "execution_count": 58,
   "id": "8c2f6ba6",
   "metadata": {},
   "outputs": [
    {
     "data": {
      "text/plain": [
       "'       Drvrloprr      '"
      ]
     },
     "execution_count": 58,
     "metadata": {},
     "output_type": "execute_result"
    }
   ],
   "source": [
    "profession.replace('e', 'r') # find and replace in a strind. Returns a new string"
   ]
  },
  {
   "cell_type": "markdown",
   "id": "32c97cd4",
   "metadata": {},
   "source": [
    "All the above methods produce a new string object"
   ]
  },
  {
   "cell_type": "code",
   "execution_count": 59,
   "id": "28261802",
   "metadata": {},
   "outputs": [
    {
     "data": {
      "text/plain": [
       "'D*v*lop*r'"
      ]
     },
     "execution_count": 59,
     "metadata": {},
     "output_type": "execute_result"
    }
   ],
   "source": [
    "profession.strip().replace('e', '*') # method chaining"
   ]
  },
  {
   "cell_type": "code",
   "execution_count": 61,
   "id": "124a3e22",
   "metadata": {},
   "outputs": [
    {
     "data": {
      "text/plain": [
       "True"
      ]
     },
     "execution_count": 61,
     "metadata": {},
     "output_type": "execute_result"
    }
   ],
   "source": [
    "animal = 'lion'\n",
    "animal.startswith('li')  #search for substring at start or end of string\n",
    "animal.endswith('on')"
   ]
  },
  {
   "cell_type": "code",
   "execution_count": 63,
   "id": "ab4f2323",
   "metadata": {},
   "outputs": [
    {
     "data": {
      "text/plain": [
       "True"
      ]
     },
     "execution_count": 63,
     "metadata": {},
     "output_type": "execute_result"
    }
   ],
   "source": [
    "# in and not in keywords\n",
    "\n",
    "'z' not in animal\n",
    "'l' in animal"
   ]
  },
  {
   "cell_type": "markdown",
   "id": "7fe27bb3",
   "metadata": {},
   "source": [
    "### Lists"
   ]
  },
  {
   "cell_type": "markdown",
   "id": "a3a9b46a",
   "metadata": {},
   "source": [
    "Mutable, Like array (holds elements in order), Make it homogeneous(elements with same datatype)"
   ]
  },
  {
   "cell_type": "code",
   "execution_count": 70,
   "id": "6b03b1c7",
   "metadata": {},
   "outputs": [],
   "source": [
    "people = ['jack', 'jill', 'harlow']"
   ]
  },
  {
   "cell_type": "code",
   "execution_count": 71,
   "id": "31b52455",
   "metadata": {},
   "outputs": [
    {
     "data": {
      "text/plain": [
       "list"
      ]
     },
     "execution_count": 71,
     "metadata": {},
     "output_type": "execute_result"
    }
   ],
   "source": [
    "len(people)\n",
    "type(people)"
   ]
  },
  {
   "cell_type": "code",
   "execution_count": 72,
   "id": "128f8e62",
   "metadata": {},
   "outputs": [
    {
     "data": {
      "text/plain": [
       "['jack', 'jill', 'harlow', 'Madison']"
      ]
     },
     "execution_count": 72,
     "metadata": {},
     "output_type": "execute_result"
    }
   ],
   "source": [
    "people.append('Madison') # add a new element to the list (mutates the original string)\n",
    "people"
   ]
  },
  {
   "cell_type": "code",
   "execution_count": 73,
   "id": "5967c13f",
   "metadata": {},
   "outputs": [
    {
     "data": {
      "text/plain": [
       "'Madison'"
      ]
     },
     "execution_count": 73,
     "metadata": {},
     "output_type": "execute_result"
    }
   ],
   "source": [
    "people.pop() #removes the last element\n",
    "people"
   ]
  },
  {
   "cell_type": "code",
   "execution_count": 75,
   "id": "eac04298",
   "metadata": {},
   "outputs": [
    {
     "data": {
      "text/plain": [
       "['jack', 'jill']"
      ]
     },
     "execution_count": 75,
     "metadata": {},
     "output_type": "execute_result"
    }
   ],
   "source": [
    "people.remove('harlow') #removes the selected element\n",
    "people"
   ]
  },
  {
   "cell_type": "code",
   "execution_count": 76,
   "id": "c5e1a245",
   "metadata": {},
   "outputs": [
    {
     "data": {
      "text/plain": [
       "True"
      ]
     },
     "execution_count": 76,
     "metadata": {},
     "output_type": "execute_result"
    }
   ],
   "source": [
    "'jack' in people\n",
    "'pluto' not in people"
   ]
  },
  {
   "cell_type": "markdown",
   "id": "585ebb5d",
   "metadata": {},
   "source": [
    "### Index Positions and Slicing"
   ]
  },
  {
   "cell_type": "code",
   "execution_count": 77,
   "id": "60bd6d19",
   "metadata": {},
   "outputs": [],
   "source": [
    "spiderman = 'Spiderman'"
   ]
  },
  {
   "cell_type": "code",
   "execution_count": 78,
   "id": "b57ade93",
   "metadata": {},
   "outputs": [
    {
     "data": {
      "text/plain": [
       "'S'"
      ]
     },
     "execution_count": 78,
     "metadata": {},
     "output_type": "execute_result"
    }
   ],
   "source": [
    "spiderman[0]\n",
    "spiderman[-1] # prints the last char\n",
    "spiderman[-2] # prints the second last char\n",
    "spiderman[-9] # prints the first char (taken relative to the end)"
   ]
  },
  {
   "cell_type": "code",
   "execution_count": 80,
   "id": "4ad20bb3",
   "metadata": {},
   "outputs": [],
   "source": [
    "superheros = ['Batman', 'Superman', 'Flash', 'Iron man']"
   ]
  },
  {
   "cell_type": "code",
   "execution_count": 81,
   "id": "f39d32ea",
   "metadata": {},
   "outputs": [
    {
     "data": {
      "text/plain": [
       "'Batman'"
      ]
     },
     "execution_count": 81,
     "metadata": {},
     "output_type": "execute_result"
    }
   ],
   "source": [
    "superheros[0]\n",
    "superheros[-4]"
   ]
  },
  {
   "cell_type": "code",
   "execution_count": 82,
   "id": "c2a079c4",
   "metadata": {},
   "outputs": [
    {
     "data": {
      "text/plain": [
       "['Superman', 'Flash']"
      ]
     },
     "execution_count": 82,
     "metadata": {},
     "output_type": "execute_result"
    }
   ],
   "source": [
    "superheros[1:3] # the ending number is exclusive, starting is inclusive"
   ]
  },
  {
   "cell_type": "code",
   "execution_count": 83,
   "id": "249c2d0e",
   "metadata": {},
   "outputs": [
    {
     "data": {
      "text/plain": [
       "'pi'"
      ]
     },
     "execution_count": 83,
     "metadata": {},
     "output_type": "execute_result"
    }
   ],
   "source": [
    "spiderman[1:3]"
   ]
  },
  {
   "cell_type": "code",
   "execution_count": 85,
   "id": "42ebba2a",
   "metadata": {},
   "outputs": [
    {
     "data": {
      "text/plain": [
       "['Batman', 'Superman']"
      ]
     },
     "execution_count": 85,
     "metadata": {},
     "output_type": "execute_result"
    }
   ],
   "source": [
    "spiderman[:3]\n",
    "superheros[0:2]\n",
    "superheros[:2]  # no need of starting 0"
   ]
  },
  {
   "cell_type": "code",
   "execution_count": 86,
   "id": "9dd93f76",
   "metadata": {},
   "outputs": [
    {
     "data": {
      "text/plain": [
       "['Flash', 'Iron man']"
      ]
     },
     "execution_count": 86,
     "metadata": {},
     "output_type": "execute_result"
    }
   ],
   "source": [
    "superheros[2:50]\n",
    "superheros[2:] # no need to specify end boundary"
   ]
  },
  {
   "cell_type": "code",
   "execution_count": 88,
   "id": "47ddceac",
   "metadata": {},
   "outputs": [
    {
     "data": {
      "text/plain": [
       "['Superman', 'Flash']"
      ]
     },
     "execution_count": 88,
     "metadata": {},
     "output_type": "execute_result"
    }
   ],
   "source": [
    "superheros[1:-1] # take elements starting from 1 but leave out last element "
   ]
  },
  {
   "cell_type": "markdown",
   "id": "171b9fc2",
   "metadata": {},
   "source": [
    "### Dictionaries"
   ]
  },
  {
   "cell_type": "code",
   "execution_count": 89,
   "id": "0472d4fe",
   "metadata": {},
   "outputs": [],
   "source": [
    "menu = {\n",
    "    'Corn': 10,\n",
    "    'Big Mac': 15,\n",
    "    'Pizza' : 10,\n",
    "    'Smoothie' : 45\n",
    "}   \n",
    "\n",
    "# mutable, no order per say, key is unique, value can be same"
   ]
  },
  {
   "cell_type": "code",
   "execution_count": 90,
   "id": "b8fcb160",
   "metadata": {},
   "outputs": [
    {
     "data": {
      "text/plain": [
       "4"
      ]
     },
     "execution_count": 90,
     "metadata": {},
     "output_type": "execute_result"
    }
   ],
   "source": [
    "len(menu)"
   ]
  },
  {
   "cell_type": "code",
   "execution_count": 91,
   "id": "2b467535",
   "metadata": {},
   "outputs": [
    {
     "data": {
      "text/plain": [
       "10"
      ]
     },
     "execution_count": 91,
     "metadata": {},
     "output_type": "execute_result"
    }
   ],
   "source": [
    "menu['Corn'] # access value via the key"
   ]
  },
  {
   "cell_type": "code",
   "execution_count": 92,
   "id": "5cc5ce97",
   "metadata": {},
   "outputs": [],
   "source": [
    "menu['Burrito'] = 14 # add a new pair"
   ]
  },
  {
   "cell_type": "code",
   "execution_count": 93,
   "id": "54dc730c",
   "metadata": {},
   "outputs": [],
   "source": [
    "menu['Pizza'] = 50 # rewrite existing value with this key"
   ]
  },
  {
   "cell_type": "code",
   "execution_count": 94,
   "id": "cb77546c",
   "metadata": {},
   "outputs": [
    {
     "data": {
      "text/plain": [
       "{'Corn': 10, 'Big Mac': 15, 'Pizza': 50, 'Smoothie': 45, 'Burrito': 14}"
      ]
     },
     "execution_count": 94,
     "metadata": {},
     "output_type": "execute_result"
    }
   ],
   "source": [
    "menu"
   ]
  },
  {
   "cell_type": "code",
   "execution_count": 95,
   "id": "e8fa64bf",
   "metadata": {},
   "outputs": [
    {
     "data": {
      "text/plain": [
       "10"
      ]
     },
     "execution_count": 95,
     "metadata": {},
     "output_type": "execute_result"
    }
   ],
   "source": [
    "menu.pop('Corn') # remove specified pair"
   ]
  },
  {
   "cell_type": "code",
   "execution_count": 96,
   "id": "445fed4d",
   "metadata": {},
   "outputs": [
    {
     "data": {
      "text/plain": [
       "{'Big Mac': 15, 'Pizza': 50, 'Smoothie': 45, 'Burrito': 14}"
      ]
     },
     "execution_count": 96,
     "metadata": {},
     "output_type": "execute_result"
    }
   ],
   "source": [
    "menu"
   ]
  },
  {
   "cell_type": "code",
   "execution_count": 97,
   "id": "8c7e6105",
   "metadata": {},
   "outputs": [
    {
     "data": {
      "text/plain": [
       "True"
      ]
     },
     "execution_count": 97,
     "metadata": {},
     "output_type": "execute_result"
    }
   ],
   "source": [
    "'Big Mac' in menu    #checking amongst keys in dict\n",
    "'Toast' not in menu"
   ]
  },
  {
   "cell_type": "code",
   "execution_count": 98,
   "id": "39b8a237",
   "metadata": {},
   "outputs": [
    {
     "data": {
      "text/plain": [
       "dict_values([15, 50, 45, 14])"
      ]
     },
     "execution_count": 98,
     "metadata": {},
     "output_type": "execute_result"
    }
   ],
   "source": [
    "menu.values()"
   ]
  },
  {
   "cell_type": "code",
   "execution_count": 100,
   "id": "789bb5c3",
   "metadata": {},
   "outputs": [
    {
     "data": {
      "text/plain": [
       "True"
      ]
     },
     "execution_count": 100,
     "metadata": {},
     "output_type": "execute_result"
    }
   ],
   "source": [
    "15 in menu.values()  #checking amongst values in dict"
   ]
  }
 ],
 "metadata": {
  "kernelspec": {
   "display_name": "Python 3 (ipykernel)",
   "language": "python",
   "name": "python3"
  },
  "language_info": {
   "codemirror_mode": {
    "name": "ipython",
    "version": 3
   },
   "file_extension": ".py",
   "mimetype": "text/x-python",
   "name": "python",
   "nbconvert_exporter": "python",
   "pygments_lexer": "ipython3",
   "version": "3.10.9"
  }
 },
 "nbformat": 4,
 "nbformat_minor": 5
}
